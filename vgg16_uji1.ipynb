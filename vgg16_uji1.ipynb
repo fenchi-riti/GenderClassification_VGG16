{
  "cells": [
    {
      "cell_type": "code",
      "execution_count": 1,
      "metadata": {
        "id": "t2MaMqX4lEOY"
      },
      "outputs": [],
      "source": [
        "import numpy as np\n",
        "import pandas as pd\n",
        "import tensorflow as tf\n",
        "import cv2\n",
        "import matplotlib.pyplot as plt\n",
        "import os\n",
        "from sklearn.model_selection import train_test_split\n",
        "from sklearn.metrics import confusion_matrix, ConfusionMatrixDisplay\n",
        "from tensorflow.keras import layers\n",
        "from tensorflow.keras import Model\n",
        "\n",
        "from tensorflow.keras.callbacks import ReduceLROnPlateau, ModelCheckpoint, EarlyStopping\n",
        "\n",
        "from keras.preprocessing.image import ImageDataGenerator\n",
        "from keras.models import Sequential\n",
        "from keras.layers import Dense, Conv2D, MaxPool2D , Flatten, MaxPooling2D\n",
        "\n",
        "from PIL import Image\n",
        "from io import BytesIO\n",
        "import base64\n",
        "from IPython.core.display import display, HTML\n",
        "\n",
        "import tensorflow as tf\n",
        "from tensorflow import keras\n",
        "import pandas as pd\n",
        "import numpy as np\n",
        "import matplotlib.pyplot as plt\n",
        "import math\n",
        "\n",
        "import seaborn as sns\n",
        "from sklearn.metrics import f1_score\n",
        "\n",
        "\n",
        "from tensorflow.keras.utils import img_to_array, load_img\n",
        "from keras.layers import BatchNormalization\n",
        "from keras.optimizers import Adam\n",
        "from sklearn.metrics import confusion_matrix, ConfusionMatrixDisplay\n"
      ]
    },
    {
      "cell_type": "code",
      "source": [
        "from google.colab import drive\n",
        "drive.mount('/content/drive')"
      ],
      "metadata": {
        "colab": {
          "base_uri": "https://localhost:8080/"
        },
        "id": "IyHe5phlmzQf",
        "outputId": "dd3b6561-ae7b-447a-9223-c4f53696b45a"
      },
      "execution_count": null,
      "outputs": [
        {
          "output_type": "stream",
          "name": "stdout",
          "text": [
            "Mounted at /content/drive\n"
          ]
        }
      ]
    },
    {
      "cell_type": "code",
      "execution_count": null,
      "metadata": {
        "id": "sI-fqAuzlEOa",
        "outputId": "f6f04c98-3140-4587-d4ee-d25361ee8f5c",
        "colab": {
          "base_uri": "https://localhost:8080/",
          "height": 317
        }
      },
      "outputs": [
        {
          "output_type": "stream",
          "name": "stdout",
          "text": [
            "/content/drive/MyDrive/AI_Dataset/img_align_celeba/img_align_celeba/ /content/drive/MyDrive/AI_Dataset/list_attr_celeba.csv\n"
          ]
        },
        {
          "output_type": "execute_result",
          "data": {
            "text/plain": [
              "     image_id  5_o_Clock_Shadow  Arched_Eyebrows  Attractive  Bags_Under_Eyes  \\\n",
              "0  000001.jpg                -1                1           1               -1   \n",
              "1  000002.jpg                -1               -1          -1                1   \n",
              "2  000003.jpg                -1               -1          -1               -1   \n",
              "3  000004.jpg                -1               -1           1               -1   \n",
              "4  000005.jpg                -1                1           1               -1   \n",
              "\n",
              "   Bald  Bangs  Big_Lips  Big_Nose  Black_Hair  ...  Sideburns  Smiling  \\\n",
              "0    -1     -1        -1        -1          -1  ...         -1        1   \n",
              "1    -1     -1        -1         1          -1  ...         -1        1   \n",
              "2    -1     -1         1        -1          -1  ...         -1       -1   \n",
              "3    -1     -1        -1        -1          -1  ...         -1       -1   \n",
              "4    -1     -1         1        -1          -1  ...         -1       -1   \n",
              "\n",
              "   Straight_Hair  Wavy_Hair  Wearing_Earrings  Wearing_Hat  Wearing_Lipstick  \\\n",
              "0              1         -1                 1           -1                 1   \n",
              "1             -1         -1                -1           -1                -1   \n",
              "2             -1          1                -1           -1                -1   \n",
              "3              1         -1                 1           -1                 1   \n",
              "4             -1         -1                -1           -1                 1   \n",
              "\n",
              "   Wearing_Necklace  Wearing_Necktie  Young  \n",
              "0                -1               -1      1  \n",
              "1                -1               -1      1  \n",
              "2                -1               -1      1  \n",
              "3                 1               -1      1  \n",
              "4                -1               -1      1  \n",
              "\n",
              "[5 rows x 41 columns]"
            ],
            "text/html": [
              "\n",
              "\n",
              "  <div id=\"df-44a919dc-a66c-48a9-abe1-55795d891a83\">\n",
              "    <div class=\"colab-df-container\">\n",
              "      <div>\n",
              "<style scoped>\n",
              "    .dataframe tbody tr th:only-of-type {\n",
              "        vertical-align: middle;\n",
              "    }\n",
              "\n",
              "    .dataframe tbody tr th {\n",
              "        vertical-align: top;\n",
              "    }\n",
              "\n",
              "    .dataframe thead th {\n",
              "        text-align: right;\n",
              "    }\n",
              "</style>\n",
              "<table border=\"1\" class=\"dataframe\">\n",
              "  <thead>\n",
              "    <tr style=\"text-align: right;\">\n",
              "      <th></th>\n",
              "      <th>image_id</th>\n",
              "      <th>5_o_Clock_Shadow</th>\n",
              "      <th>Arched_Eyebrows</th>\n",
              "      <th>Attractive</th>\n",
              "      <th>Bags_Under_Eyes</th>\n",
              "      <th>Bald</th>\n",
              "      <th>Bangs</th>\n",
              "      <th>Big_Lips</th>\n",
              "      <th>Big_Nose</th>\n",
              "      <th>Black_Hair</th>\n",
              "      <th>...</th>\n",
              "      <th>Sideburns</th>\n",
              "      <th>Smiling</th>\n",
              "      <th>Straight_Hair</th>\n",
              "      <th>Wavy_Hair</th>\n",
              "      <th>Wearing_Earrings</th>\n",
              "      <th>Wearing_Hat</th>\n",
              "      <th>Wearing_Lipstick</th>\n",
              "      <th>Wearing_Necklace</th>\n",
              "      <th>Wearing_Necktie</th>\n",
              "      <th>Young</th>\n",
              "    </tr>\n",
              "  </thead>\n",
              "  <tbody>\n",
              "    <tr>\n",
              "      <th>0</th>\n",
              "      <td>000001.jpg</td>\n",
              "      <td>-1</td>\n",
              "      <td>1</td>\n",
              "      <td>1</td>\n",
              "      <td>-1</td>\n",
              "      <td>-1</td>\n",
              "      <td>-1</td>\n",
              "      <td>-1</td>\n",
              "      <td>-1</td>\n",
              "      <td>-1</td>\n",
              "      <td>...</td>\n",
              "      <td>-1</td>\n",
              "      <td>1</td>\n",
              "      <td>1</td>\n",
              "      <td>-1</td>\n",
              "      <td>1</td>\n",
              "      <td>-1</td>\n",
              "      <td>1</td>\n",
              "      <td>-1</td>\n",
              "      <td>-1</td>\n",
              "      <td>1</td>\n",
              "    </tr>\n",
              "    <tr>\n",
              "      <th>1</th>\n",
              "      <td>000002.jpg</td>\n",
              "      <td>-1</td>\n",
              "      <td>-1</td>\n",
              "      <td>-1</td>\n",
              "      <td>1</td>\n",
              "      <td>-1</td>\n",
              "      <td>-1</td>\n",
              "      <td>-1</td>\n",
              "      <td>1</td>\n",
              "      <td>-1</td>\n",
              "      <td>...</td>\n",
              "      <td>-1</td>\n",
              "      <td>1</td>\n",
              "      <td>-1</td>\n",
              "      <td>-1</td>\n",
              "      <td>-1</td>\n",
              "      <td>-1</td>\n",
              "      <td>-1</td>\n",
              "      <td>-1</td>\n",
              "      <td>-1</td>\n",
              "      <td>1</td>\n",
              "    </tr>\n",
              "    <tr>\n",
              "      <th>2</th>\n",
              "      <td>000003.jpg</td>\n",
              "      <td>-1</td>\n",
              "      <td>-1</td>\n",
              "      <td>-1</td>\n",
              "      <td>-1</td>\n",
              "      <td>-1</td>\n",
              "      <td>-1</td>\n",
              "      <td>1</td>\n",
              "      <td>-1</td>\n",
              "      <td>-1</td>\n",
              "      <td>...</td>\n",
              "      <td>-1</td>\n",
              "      <td>-1</td>\n",
              "      <td>-1</td>\n",
              "      <td>1</td>\n",
              "      <td>-1</td>\n",
              "      <td>-1</td>\n",
              "      <td>-1</td>\n",
              "      <td>-1</td>\n",
              "      <td>-1</td>\n",
              "      <td>1</td>\n",
              "    </tr>\n",
              "    <tr>\n",
              "      <th>3</th>\n",
              "      <td>000004.jpg</td>\n",
              "      <td>-1</td>\n",
              "      <td>-1</td>\n",
              "      <td>1</td>\n",
              "      <td>-1</td>\n",
              "      <td>-1</td>\n",
              "      <td>-1</td>\n",
              "      <td>-1</td>\n",
              "      <td>-1</td>\n",
              "      <td>-1</td>\n",
              "      <td>...</td>\n",
              "      <td>-1</td>\n",
              "      <td>-1</td>\n",
              "      <td>1</td>\n",
              "      <td>-1</td>\n",
              "      <td>1</td>\n",
              "      <td>-1</td>\n",
              "      <td>1</td>\n",
              "      <td>1</td>\n",
              "      <td>-1</td>\n",
              "      <td>1</td>\n",
              "    </tr>\n",
              "    <tr>\n",
              "      <th>4</th>\n",
              "      <td>000005.jpg</td>\n",
              "      <td>-1</td>\n",
              "      <td>1</td>\n",
              "      <td>1</td>\n",
              "      <td>-1</td>\n",
              "      <td>-1</td>\n",
              "      <td>-1</td>\n",
              "      <td>1</td>\n",
              "      <td>-1</td>\n",
              "      <td>-1</td>\n",
              "      <td>...</td>\n",
              "      <td>-1</td>\n",
              "      <td>-1</td>\n",
              "      <td>-1</td>\n",
              "      <td>-1</td>\n",
              "      <td>-1</td>\n",
              "      <td>-1</td>\n",
              "      <td>1</td>\n",
              "      <td>-1</td>\n",
              "      <td>-1</td>\n",
              "      <td>1</td>\n",
              "    </tr>\n",
              "  </tbody>\n",
              "</table>\n",
              "<p>5 rows × 41 columns</p>\n",
              "</div>\n",
              "      <button class=\"colab-df-convert\" onclick=\"convertToInteractive('df-44a919dc-a66c-48a9-abe1-55795d891a83')\"\n",
              "              title=\"Convert this dataframe to an interactive table.\"\n",
              "              style=\"display:none;\">\n",
              "\n",
              "  <svg xmlns=\"http://www.w3.org/2000/svg\" height=\"24px\"viewBox=\"0 0 24 24\"\n",
              "       width=\"24px\">\n",
              "    <path d=\"M0 0h24v24H0V0z\" fill=\"none\"/>\n",
              "    <path d=\"M18.56 5.44l.94 2.06.94-2.06 2.06-.94-2.06-.94-.94-2.06-.94 2.06-2.06.94zm-11 1L8.5 8.5l.94-2.06 2.06-.94-2.06-.94L8.5 2.5l-.94 2.06-2.06.94zm10 10l.94 2.06.94-2.06 2.06-.94-2.06-.94-.94-2.06-.94 2.06-2.06.94z\"/><path d=\"M17.41 7.96l-1.37-1.37c-.4-.4-.92-.59-1.43-.59-.52 0-1.04.2-1.43.59L10.3 9.45l-7.72 7.72c-.78.78-.78 2.05 0 2.83L4 21.41c.39.39.9.59 1.41.59.51 0 1.02-.2 1.41-.59l7.78-7.78 2.81-2.81c.8-.78.8-2.07 0-2.86zM5.41 20L4 18.59l7.72-7.72 1.47 1.35L5.41 20z\"/>\n",
              "  </svg>\n",
              "      </button>\n",
              "\n",
              "\n",
              "\n",
              "    <div id=\"df-acac709b-01f6-439d-ba3d-4ae868e644bb\">\n",
              "      <button class=\"colab-df-quickchart\" onclick=\"quickchart('df-acac709b-01f6-439d-ba3d-4ae868e644bb')\"\n",
              "              title=\"Suggest charts.\"\n",
              "              style=\"display:none;\">\n",
              "\n",
              "<svg xmlns=\"http://www.w3.org/2000/svg\" height=\"24px\"viewBox=\"0 0 24 24\"\n",
              "     width=\"24px\">\n",
              "    <g>\n",
              "        <path d=\"M19 3H5c-1.1 0-2 .9-2 2v14c0 1.1.9 2 2 2h14c1.1 0 2-.9 2-2V5c0-1.1-.9-2-2-2zM9 17H7v-7h2v7zm4 0h-2V7h2v10zm4 0h-2v-4h2v4z\"/>\n",
              "    </g>\n",
              "</svg>\n",
              "      </button>\n",
              "    </div>\n",
              "\n",
              "<style>\n",
              "  .colab-df-quickchart {\n",
              "    background-color: #E8F0FE;\n",
              "    border: none;\n",
              "    border-radius: 50%;\n",
              "    cursor: pointer;\n",
              "    display: none;\n",
              "    fill: #1967D2;\n",
              "    height: 32px;\n",
              "    padding: 0 0 0 0;\n",
              "    width: 32px;\n",
              "  }\n",
              "\n",
              "  .colab-df-quickchart:hover {\n",
              "    background-color: #E2EBFA;\n",
              "    box-shadow: 0px 1px 2px rgba(60, 64, 67, 0.3), 0px 1px 3px 1px rgba(60, 64, 67, 0.15);\n",
              "    fill: #174EA6;\n",
              "  }\n",
              "\n",
              "  [theme=dark] .colab-df-quickchart {\n",
              "    background-color: #3B4455;\n",
              "    fill: #D2E3FC;\n",
              "  }\n",
              "\n",
              "  [theme=dark] .colab-df-quickchart:hover {\n",
              "    background-color: #434B5C;\n",
              "    box-shadow: 0px 1px 3px 1px rgba(0, 0, 0, 0.15);\n",
              "    filter: drop-shadow(0px 1px 2px rgba(0, 0, 0, 0.3));\n",
              "    fill: #FFFFFF;\n",
              "  }\n",
              "</style>\n",
              "\n",
              "    <script>\n",
              "      async function quickchart(key) {\n",
              "        const containerElement = document.querySelector('#' + key);\n",
              "        const charts = await google.colab.kernel.invokeFunction(\n",
              "            'suggestCharts', [key], {});\n",
              "      }\n",
              "    </script>\n",
              "\n",
              "      <script>\n",
              "\n",
              "function displayQuickchartButton(domScope) {\n",
              "  let quickchartButtonEl =\n",
              "    domScope.querySelector('#df-acac709b-01f6-439d-ba3d-4ae868e644bb button.colab-df-quickchart');\n",
              "  quickchartButtonEl.style.display =\n",
              "    google.colab.kernel.accessAllowed ? 'block' : 'none';\n",
              "}\n",
              "\n",
              "        displayQuickchartButton(document);\n",
              "      </script>\n",
              "      <style>\n",
              "    .colab-df-container {\n",
              "      display:flex;\n",
              "      flex-wrap:wrap;\n",
              "      gap: 12px;\n",
              "    }\n",
              "\n",
              "    .colab-df-convert {\n",
              "      background-color: #E8F0FE;\n",
              "      border: none;\n",
              "      border-radius: 50%;\n",
              "      cursor: pointer;\n",
              "      display: none;\n",
              "      fill: #1967D2;\n",
              "      height: 32px;\n",
              "      padding: 0 0 0 0;\n",
              "      width: 32px;\n",
              "    }\n",
              "\n",
              "    .colab-df-convert:hover {\n",
              "      background-color: #E2EBFA;\n",
              "      box-shadow: 0px 1px 2px rgba(60, 64, 67, 0.3), 0px 1px 3px 1px rgba(60, 64, 67, 0.15);\n",
              "      fill: #174EA6;\n",
              "    }\n",
              "\n",
              "    [theme=dark] .colab-df-convert {\n",
              "      background-color: #3B4455;\n",
              "      fill: #D2E3FC;\n",
              "    }\n",
              "\n",
              "    [theme=dark] .colab-df-convert:hover {\n",
              "      background-color: #434B5C;\n",
              "      box-shadow: 0px 1px 3px 1px rgba(0, 0, 0, 0.15);\n",
              "      filter: drop-shadow(0px 1px 2px rgba(0, 0, 0, 0.3));\n",
              "      fill: #FFFFFF;\n",
              "    }\n",
              "  </style>\n",
              "\n",
              "      <script>\n",
              "        const buttonEl =\n",
              "          document.querySelector('#df-44a919dc-a66c-48a9-abe1-55795d891a83 button.colab-df-convert');\n",
              "        buttonEl.style.display =\n",
              "          google.colab.kernel.accessAllowed ? 'block' : 'none';\n",
              "\n",
              "        async function convertToInteractive(key) {\n",
              "          const element = document.querySelector('#df-44a919dc-a66c-48a9-abe1-55795d891a83');\n",
              "          const dataTable =\n",
              "            await google.colab.kernel.invokeFunction('convertToInteractive',\n",
              "                                                     [key], {});\n",
              "          if (!dataTable) return;\n",
              "\n",
              "          const docLinkHtml = 'Like what you see? Visit the ' +\n",
              "            '<a target=\"_blank\" href=https://colab.research.google.com/notebooks/data_table.ipynb>data table notebook</a>'\n",
              "            + ' to learn more about interactive tables.';\n",
              "          element.innerHTML = '';\n",
              "          dataTable['output_type'] = 'display_data';\n",
              "          await google.colab.output.renderOutput(dataTable, element);\n",
              "          const docLink = document.createElement('div');\n",
              "          docLink.innerHTML = docLinkHtml;\n",
              "          element.appendChild(docLink);\n",
              "        }\n",
              "      </script>\n",
              "    </div>\n",
              "  </div>\n"
            ]
          },
          "metadata": {},
          "execution_count": 4
        }
      ],
      "source": [
        "BASIC_PATH = \"/content/drive/MyDrive/AI_Dataset/\"\n",
        "IMG_PATH = os.path.join(BASIC_PATH,'img_align_celeba/img_align_celeba/') # PURE IMAGE\n",
        "LIST_ATTR_PATH = os.path.join(BASIC_PATH,'list_attr_celeba.csv') # Fiture Male\n",
        "\n",
        "DF_ATTR = pd.read_csv(BASIC_PATH + 'list_attr_celeba.csv', delimiter=',')\n",
        "print(IMG_PATH, LIST_ATTR_PATH)\n",
        "DF_ATTR.head()"
      ]
    },
    {
      "cell_type": "code",
      "execution_count": null,
      "metadata": {
        "id": "GhpbULWSlEOa"
      },
      "outputs": [],
      "source": [
        "DF_PARTITION = pd.read_csv(BASIC_PATH + 'list_eval_partition.csv') # Attribut  -> Gambar\n"
      ]
    },
    {
      "cell_type": "code",
      "execution_count": null,
      "metadata": {
        "id": "ncxh-ID-lEOa",
        "outputId": "0a5e231d-31cb-4ba9-d5f0-dc448cff3f8e",
        "colab": {
          "base_uri": "https://localhost:8080/"
        }
      },
      "outputs": [
        {
          "output_type": "execute_result",
          "data": {
            "text/plain": [
              "(202599, 40)"
            ]
          },
          "metadata": {},
          "execution_count": 6
        }
      ],
      "source": [
        "DF_ATTR.set_index('image_id', inplace=True)\n",
        "DF_ATTR.replace(to_replace=-1, value=0, inplace=True) #replace -1 by 0\n",
        "DF_ATTR.shape"
      ]
    },
    {
      "cell_type": "code",
      "execution_count": null,
      "metadata": {
        "id": "QC671sNSlEOa",
        "outputId": "74f5116e-60e7-4a6d-d844-c74114194bd6",
        "colab": {
          "base_uri": "https://localhost:8080/"
        }
      },
      "outputs": [
        {
          "output_type": "execute_result",
          "data": {
            "text/plain": [
              "0    162770\n",
              "1     19867\n",
              "2     19962\n",
              "Name: partition, dtype: int64"
            ]
          },
          "metadata": {},
          "execution_count": 7
        }
      ],
      "source": [
        "DF_PARTITION['partition'].value_counts().sort_index()"
      ]
    },
    {
      "cell_type": "code",
      "execution_count": null,
      "metadata": {
        "id": "vB1NdGvtlEOb",
        "outputId": "e2277bf0-51be-49c9-9c98-48e320ad7f57",
        "colab": {
          "base_uri": "https://localhost:8080/",
          "height": 237
        }
      },
      "outputs": [
        {
          "output_type": "execute_result",
          "data": {
            "text/plain": [
              "            partition  Male\n",
              "image_id                   \n",
              "000001.jpg          0     0\n",
              "000002.jpg          0     0\n",
              "000003.jpg          0     1\n",
              "000004.jpg          0     0\n",
              "000005.jpg          0     0"
            ],
            "text/html": [
              "\n",
              "\n",
              "  <div id=\"df-e6080e27-e62c-440a-9e9f-196df1b55d7a\">\n",
              "    <div class=\"colab-df-container\">\n",
              "      <div>\n",
              "<style scoped>\n",
              "    .dataframe tbody tr th:only-of-type {\n",
              "        vertical-align: middle;\n",
              "    }\n",
              "\n",
              "    .dataframe tbody tr th {\n",
              "        vertical-align: top;\n",
              "    }\n",
              "\n",
              "    .dataframe thead th {\n",
              "        text-align: right;\n",
              "    }\n",
              "</style>\n",
              "<table border=\"1\" class=\"dataframe\">\n",
              "  <thead>\n",
              "    <tr style=\"text-align: right;\">\n",
              "      <th></th>\n",
              "      <th>partition</th>\n",
              "      <th>Male</th>\n",
              "    </tr>\n",
              "    <tr>\n",
              "      <th>image_id</th>\n",
              "      <th></th>\n",
              "      <th></th>\n",
              "    </tr>\n",
              "  </thead>\n",
              "  <tbody>\n",
              "    <tr>\n",
              "      <th>000001.jpg</th>\n",
              "      <td>0</td>\n",
              "      <td>0</td>\n",
              "    </tr>\n",
              "    <tr>\n",
              "      <th>000002.jpg</th>\n",
              "      <td>0</td>\n",
              "      <td>0</td>\n",
              "    </tr>\n",
              "    <tr>\n",
              "      <th>000003.jpg</th>\n",
              "      <td>0</td>\n",
              "      <td>1</td>\n",
              "    </tr>\n",
              "    <tr>\n",
              "      <th>000004.jpg</th>\n",
              "      <td>0</td>\n",
              "      <td>0</td>\n",
              "    </tr>\n",
              "    <tr>\n",
              "      <th>000005.jpg</th>\n",
              "      <td>0</td>\n",
              "      <td>0</td>\n",
              "    </tr>\n",
              "  </tbody>\n",
              "</table>\n",
              "</div>\n",
              "      <button class=\"colab-df-convert\" onclick=\"convertToInteractive('df-e6080e27-e62c-440a-9e9f-196df1b55d7a')\"\n",
              "              title=\"Convert this dataframe to an interactive table.\"\n",
              "              style=\"display:none;\">\n",
              "\n",
              "  <svg xmlns=\"http://www.w3.org/2000/svg\" height=\"24px\"viewBox=\"0 0 24 24\"\n",
              "       width=\"24px\">\n",
              "    <path d=\"M0 0h24v24H0V0z\" fill=\"none\"/>\n",
              "    <path d=\"M18.56 5.44l.94 2.06.94-2.06 2.06-.94-2.06-.94-.94-2.06-.94 2.06-2.06.94zm-11 1L8.5 8.5l.94-2.06 2.06-.94-2.06-.94L8.5 2.5l-.94 2.06-2.06.94zm10 10l.94 2.06.94-2.06 2.06-.94-2.06-.94-.94-2.06-.94 2.06-2.06.94z\"/><path d=\"M17.41 7.96l-1.37-1.37c-.4-.4-.92-.59-1.43-.59-.52 0-1.04.2-1.43.59L10.3 9.45l-7.72 7.72c-.78.78-.78 2.05 0 2.83L4 21.41c.39.39.9.59 1.41.59.51 0 1.02-.2 1.41-.59l7.78-7.78 2.81-2.81c.8-.78.8-2.07 0-2.86zM5.41 20L4 18.59l7.72-7.72 1.47 1.35L5.41 20z\"/>\n",
              "  </svg>\n",
              "      </button>\n",
              "\n",
              "\n",
              "\n",
              "    <div id=\"df-eff6991f-536a-4092-bb95-25aa104d96bd\">\n",
              "      <button class=\"colab-df-quickchart\" onclick=\"quickchart('df-eff6991f-536a-4092-bb95-25aa104d96bd')\"\n",
              "              title=\"Suggest charts.\"\n",
              "              style=\"display:none;\">\n",
              "\n",
              "<svg xmlns=\"http://www.w3.org/2000/svg\" height=\"24px\"viewBox=\"0 0 24 24\"\n",
              "     width=\"24px\">\n",
              "    <g>\n",
              "        <path d=\"M19 3H5c-1.1 0-2 .9-2 2v14c0 1.1.9 2 2 2h14c1.1 0 2-.9 2-2V5c0-1.1-.9-2-2-2zM9 17H7v-7h2v7zm4 0h-2V7h2v10zm4 0h-2v-4h2v4z\"/>\n",
              "    </g>\n",
              "</svg>\n",
              "      </button>\n",
              "    </div>\n",
              "\n",
              "<style>\n",
              "  .colab-df-quickchart {\n",
              "    background-color: #E8F0FE;\n",
              "    border: none;\n",
              "    border-radius: 50%;\n",
              "    cursor: pointer;\n",
              "    display: none;\n",
              "    fill: #1967D2;\n",
              "    height: 32px;\n",
              "    padding: 0 0 0 0;\n",
              "    width: 32px;\n",
              "  }\n",
              "\n",
              "  .colab-df-quickchart:hover {\n",
              "    background-color: #E2EBFA;\n",
              "    box-shadow: 0px 1px 2px rgba(60, 64, 67, 0.3), 0px 1px 3px 1px rgba(60, 64, 67, 0.15);\n",
              "    fill: #174EA6;\n",
              "  }\n",
              "\n",
              "  [theme=dark] .colab-df-quickchart {\n",
              "    background-color: #3B4455;\n",
              "    fill: #D2E3FC;\n",
              "  }\n",
              "\n",
              "  [theme=dark] .colab-df-quickchart:hover {\n",
              "    background-color: #434B5C;\n",
              "    box-shadow: 0px 1px 3px 1px rgba(0, 0, 0, 0.15);\n",
              "    filter: drop-shadow(0px 1px 2px rgba(0, 0, 0, 0.3));\n",
              "    fill: #FFFFFF;\n",
              "  }\n",
              "</style>\n",
              "\n",
              "    <script>\n",
              "      async function quickchart(key) {\n",
              "        const containerElement = document.querySelector('#' + key);\n",
              "        const charts = await google.colab.kernel.invokeFunction(\n",
              "            'suggestCharts', [key], {});\n",
              "      }\n",
              "    </script>\n",
              "\n",
              "      <script>\n",
              "\n",
              "function displayQuickchartButton(domScope) {\n",
              "  let quickchartButtonEl =\n",
              "    domScope.querySelector('#df-eff6991f-536a-4092-bb95-25aa104d96bd button.colab-df-quickchart');\n",
              "  quickchartButtonEl.style.display =\n",
              "    google.colab.kernel.accessAllowed ? 'block' : 'none';\n",
              "}\n",
              "\n",
              "        displayQuickchartButton(document);\n",
              "      </script>\n",
              "      <style>\n",
              "    .colab-df-container {\n",
              "      display:flex;\n",
              "      flex-wrap:wrap;\n",
              "      gap: 12px;\n",
              "    }\n",
              "\n",
              "    .colab-df-convert {\n",
              "      background-color: #E8F0FE;\n",
              "      border: none;\n",
              "      border-radius: 50%;\n",
              "      cursor: pointer;\n",
              "      display: none;\n",
              "      fill: #1967D2;\n",
              "      height: 32px;\n",
              "      padding: 0 0 0 0;\n",
              "      width: 32px;\n",
              "    }\n",
              "\n",
              "    .colab-df-convert:hover {\n",
              "      background-color: #E2EBFA;\n",
              "      box-shadow: 0px 1px 2px rgba(60, 64, 67, 0.3), 0px 1px 3px 1px rgba(60, 64, 67, 0.15);\n",
              "      fill: #174EA6;\n",
              "    }\n",
              "\n",
              "    [theme=dark] .colab-df-convert {\n",
              "      background-color: #3B4455;\n",
              "      fill: #D2E3FC;\n",
              "    }\n",
              "\n",
              "    [theme=dark] .colab-df-convert:hover {\n",
              "      background-color: #434B5C;\n",
              "      box-shadow: 0px 1px 3px 1px rgba(0, 0, 0, 0.15);\n",
              "      filter: drop-shadow(0px 1px 2px rgba(0, 0, 0, 0.3));\n",
              "      fill: #FFFFFF;\n",
              "    }\n",
              "  </style>\n",
              "\n",
              "      <script>\n",
              "        const buttonEl =\n",
              "          document.querySelector('#df-e6080e27-e62c-440a-9e9f-196df1b55d7a button.colab-df-convert');\n",
              "        buttonEl.style.display =\n",
              "          google.colab.kernel.accessAllowed ? 'block' : 'none';\n",
              "\n",
              "        async function convertToInteractive(key) {\n",
              "          const element = document.querySelector('#df-e6080e27-e62c-440a-9e9f-196df1b55d7a');\n",
              "          const dataTable =\n",
              "            await google.colab.kernel.invokeFunction('convertToInteractive',\n",
              "                                                     [key], {});\n",
              "          if (!dataTable) return;\n",
              "\n",
              "          const docLinkHtml = 'Like what you see? Visit the ' +\n",
              "            '<a target=\"_blank\" href=https://colab.research.google.com/notebooks/data_table.ipynb>data table notebook</a>'\n",
              "            + ' to learn more about interactive tables.';\n",
              "          element.innerHTML = '';\n",
              "          dataTable['output_type'] = 'display_data';\n",
              "          await google.colab.output.renderOutput(dataTable, element);\n",
              "          const docLink = document.createElement('div');\n",
              "          docLink.innerHTML = docLinkHtml;\n",
              "          element.appendChild(docLink);\n",
              "        }\n",
              "      </script>\n",
              "    </div>\n",
              "  </div>\n"
            ]
          },
          "metadata": {},
          "execution_count": 8
        }
      ],
      "source": [
        "# join the partition with the attributes\n",
        "DF_PARTITION.set_index('image_id', inplace=True)\n",
        "DF_PARTITION = DF_PARTITION.join(DF_ATTR['Male'], how='inner')\n",
        "DF_PARTITION.head()"
      ]
    },
    {
      "cell_type": "code",
      "execution_count": null,
      "metadata": {
        "id": "tPn-4xmClEOb",
        "outputId": "569f8522-e2ed-43b8-cf55-73463a986107",
        "colab": {
          "base_uri": "https://localhost:8080/",
          "height": 423
        }
      },
      "outputs": [
        {
          "output_type": "execute_result",
          "data": {
            "text/plain": [
              "        image_id  Gender\n",
              "0     093242.jpg    Male\n",
              "1     121414.jpg  Female\n",
              "2     010625.jpg    Male\n",
              "3     082524.jpg  Female\n",
              "4     073193.jpg  Female\n",
              "...          ...     ...\n",
              "2485  181963.jpg  Female\n",
              "2486  156956.jpg  Female\n",
              "2487  092708.jpg    Male\n",
              "2488  039176.jpg  Female\n",
              "2489  052918.jpg  Female\n",
              "\n",
              "[2490 rows x 2 columns]"
            ],
            "text/html": [
              "\n",
              "\n",
              "  <div id=\"df-65840eed-78aa-49b4-bf52-18fec9574992\">\n",
              "    <div class=\"colab-df-container\">\n",
              "      <div>\n",
              "<style scoped>\n",
              "    .dataframe tbody tr th:only-of-type {\n",
              "        vertical-align: middle;\n",
              "    }\n",
              "\n",
              "    .dataframe tbody tr th {\n",
              "        vertical-align: top;\n",
              "    }\n",
              "\n",
              "    .dataframe thead th {\n",
              "        text-align: right;\n",
              "    }\n",
              "</style>\n",
              "<table border=\"1\" class=\"dataframe\">\n",
              "  <thead>\n",
              "    <tr style=\"text-align: right;\">\n",
              "      <th></th>\n",
              "      <th>image_id</th>\n",
              "      <th>Gender</th>\n",
              "    </tr>\n",
              "  </thead>\n",
              "  <tbody>\n",
              "    <tr>\n",
              "      <th>0</th>\n",
              "      <td>093242.jpg</td>\n",
              "      <td>Male</td>\n",
              "    </tr>\n",
              "    <tr>\n",
              "      <th>1</th>\n",
              "      <td>121414.jpg</td>\n",
              "      <td>Female</td>\n",
              "    </tr>\n",
              "    <tr>\n",
              "      <th>2</th>\n",
              "      <td>010625.jpg</td>\n",
              "      <td>Male</td>\n",
              "    </tr>\n",
              "    <tr>\n",
              "      <th>3</th>\n",
              "      <td>082524.jpg</td>\n",
              "      <td>Female</td>\n",
              "    </tr>\n",
              "    <tr>\n",
              "      <th>4</th>\n",
              "      <td>073193.jpg</td>\n",
              "      <td>Female</td>\n",
              "    </tr>\n",
              "    <tr>\n",
              "      <th>...</th>\n",
              "      <td>...</td>\n",
              "      <td>...</td>\n",
              "    </tr>\n",
              "    <tr>\n",
              "      <th>2485</th>\n",
              "      <td>181963.jpg</td>\n",
              "      <td>Female</td>\n",
              "    </tr>\n",
              "    <tr>\n",
              "      <th>2486</th>\n",
              "      <td>156956.jpg</td>\n",
              "      <td>Female</td>\n",
              "    </tr>\n",
              "    <tr>\n",
              "      <th>2487</th>\n",
              "      <td>092708.jpg</td>\n",
              "      <td>Male</td>\n",
              "    </tr>\n",
              "    <tr>\n",
              "      <th>2488</th>\n",
              "      <td>039176.jpg</td>\n",
              "      <td>Female</td>\n",
              "    </tr>\n",
              "    <tr>\n",
              "      <th>2489</th>\n",
              "      <td>052918.jpg</td>\n",
              "      <td>Female</td>\n",
              "    </tr>\n",
              "  </tbody>\n",
              "</table>\n",
              "<p>2490 rows × 2 columns</p>\n",
              "</div>\n",
              "      <button class=\"colab-df-convert\" onclick=\"convertToInteractive('df-65840eed-78aa-49b4-bf52-18fec9574992')\"\n",
              "              title=\"Convert this dataframe to an interactive table.\"\n",
              "              style=\"display:none;\">\n",
              "\n",
              "  <svg xmlns=\"http://www.w3.org/2000/svg\" height=\"24px\"viewBox=\"0 0 24 24\"\n",
              "       width=\"24px\">\n",
              "    <path d=\"M0 0h24v24H0V0z\" fill=\"none\"/>\n",
              "    <path d=\"M18.56 5.44l.94 2.06.94-2.06 2.06-.94-2.06-.94-.94-2.06-.94 2.06-2.06.94zm-11 1L8.5 8.5l.94-2.06 2.06-.94-2.06-.94L8.5 2.5l-.94 2.06-2.06.94zm10 10l.94 2.06.94-2.06 2.06-.94-2.06-.94-.94-2.06-.94 2.06-2.06.94z\"/><path d=\"M17.41 7.96l-1.37-1.37c-.4-.4-.92-.59-1.43-.59-.52 0-1.04.2-1.43.59L10.3 9.45l-7.72 7.72c-.78.78-.78 2.05 0 2.83L4 21.41c.39.39.9.59 1.41.59.51 0 1.02-.2 1.41-.59l7.78-7.78 2.81-2.81c.8-.78.8-2.07 0-2.86zM5.41 20L4 18.59l7.72-7.72 1.47 1.35L5.41 20z\"/>\n",
              "  </svg>\n",
              "      </button>\n",
              "\n",
              "\n",
              "\n",
              "    <div id=\"df-284bec29-5ba9-47c5-b365-de11d0569250\">\n",
              "      <button class=\"colab-df-quickchart\" onclick=\"quickchart('df-284bec29-5ba9-47c5-b365-de11d0569250')\"\n",
              "              title=\"Suggest charts.\"\n",
              "              style=\"display:none;\">\n",
              "\n",
              "<svg xmlns=\"http://www.w3.org/2000/svg\" height=\"24px\"viewBox=\"0 0 24 24\"\n",
              "     width=\"24px\">\n",
              "    <g>\n",
              "        <path d=\"M19 3H5c-1.1 0-2 .9-2 2v14c0 1.1.9 2 2 2h14c1.1 0 2-.9 2-2V5c0-1.1-.9-2-2-2zM9 17H7v-7h2v7zm4 0h-2V7h2v10zm4 0h-2v-4h2v4z\"/>\n",
              "    </g>\n",
              "</svg>\n",
              "      </button>\n",
              "    </div>\n",
              "\n",
              "<style>\n",
              "  .colab-df-quickchart {\n",
              "    background-color: #E8F0FE;\n",
              "    border: none;\n",
              "    border-radius: 50%;\n",
              "    cursor: pointer;\n",
              "    display: none;\n",
              "    fill: #1967D2;\n",
              "    height: 32px;\n",
              "    padding: 0 0 0 0;\n",
              "    width: 32px;\n",
              "  }\n",
              "\n",
              "  .colab-df-quickchart:hover {\n",
              "    background-color: #E2EBFA;\n",
              "    box-shadow: 0px 1px 2px rgba(60, 64, 67, 0.3), 0px 1px 3px 1px rgba(60, 64, 67, 0.15);\n",
              "    fill: #174EA6;\n",
              "  }\n",
              "\n",
              "  [theme=dark] .colab-df-quickchart {\n",
              "    background-color: #3B4455;\n",
              "    fill: #D2E3FC;\n",
              "  }\n",
              "\n",
              "  [theme=dark] .colab-df-quickchart:hover {\n",
              "    background-color: #434B5C;\n",
              "    box-shadow: 0px 1px 3px 1px rgba(0, 0, 0, 0.15);\n",
              "    filter: drop-shadow(0px 1px 2px rgba(0, 0, 0, 0.3));\n",
              "    fill: #FFFFFF;\n",
              "  }\n",
              "</style>\n",
              "\n",
              "    <script>\n",
              "      async function quickchart(key) {\n",
              "        const containerElement = document.querySelector('#' + key);\n",
              "        const charts = await google.colab.kernel.invokeFunction(\n",
              "            'suggestCharts', [key], {});\n",
              "      }\n",
              "    </script>\n",
              "\n",
              "      <script>\n",
              "\n",
              "function displayQuickchartButton(domScope) {\n",
              "  let quickchartButtonEl =\n",
              "    domScope.querySelector('#df-284bec29-5ba9-47c5-b365-de11d0569250 button.colab-df-quickchart');\n",
              "  quickchartButtonEl.style.display =\n",
              "    google.colab.kernel.accessAllowed ? 'block' : 'none';\n",
              "}\n",
              "\n",
              "        displayQuickchartButton(document);\n",
              "      </script>\n",
              "      <style>\n",
              "    .colab-df-container {\n",
              "      display:flex;\n",
              "      flex-wrap:wrap;\n",
              "      gap: 12px;\n",
              "    }\n",
              "\n",
              "    .colab-df-convert {\n",
              "      background-color: #E8F0FE;\n",
              "      border: none;\n",
              "      border-radius: 50%;\n",
              "      cursor: pointer;\n",
              "      display: none;\n",
              "      fill: #1967D2;\n",
              "      height: 32px;\n",
              "      padding: 0 0 0 0;\n",
              "      width: 32px;\n",
              "    }\n",
              "\n",
              "    .colab-df-convert:hover {\n",
              "      background-color: #E2EBFA;\n",
              "      box-shadow: 0px 1px 2px rgba(60, 64, 67, 0.3), 0px 1px 3px 1px rgba(60, 64, 67, 0.15);\n",
              "      fill: #174EA6;\n",
              "    }\n",
              "\n",
              "    [theme=dark] .colab-df-convert {\n",
              "      background-color: #3B4455;\n",
              "      fill: #D2E3FC;\n",
              "    }\n",
              "\n",
              "    [theme=dark] .colab-df-convert:hover {\n",
              "      background-color: #434B5C;\n",
              "      box-shadow: 0px 1px 3px 1px rgba(0, 0, 0, 0.15);\n",
              "      filter: drop-shadow(0px 1px 2px rgba(0, 0, 0, 0.3));\n",
              "      fill: #FFFFFF;\n",
              "    }\n",
              "  </style>\n",
              "\n",
              "      <script>\n",
              "        const buttonEl =\n",
              "          document.querySelector('#df-65840eed-78aa-49b4-bf52-18fec9574992 button.colab-df-convert');\n",
              "        buttonEl.style.display =\n",
              "          google.colab.kernel.accessAllowed ? 'block' : 'none';\n",
              "\n",
              "        async function convertToInteractive(key) {\n",
              "          const element = document.querySelector('#df-65840eed-78aa-49b4-bf52-18fec9574992');\n",
              "          const dataTable =\n",
              "            await google.colab.kernel.invokeFunction('convertToInteractive',\n",
              "                                                     [key], {});\n",
              "          if (!dataTable) return;\n",
              "\n",
              "          const docLinkHtml = 'Like what you see? Visit the ' +\n",
              "            '<a target=\"_blank\" href=https://colab.research.google.com/notebooks/data_table.ipynb>data table notebook</a>'\n",
              "            + ' to learn more about interactive tables.';\n",
              "          element.innerHTML = '';\n",
              "          dataTable['output_type'] = 'display_data';\n",
              "          await google.colab.output.renderOutput(dataTable, element);\n",
              "          const docLink = document.createElement('div');\n",
              "          docLink.innerHTML = docLinkHtml;\n",
              "          element.appendChild(docLink);\n",
              "        }\n",
              "      </script>\n",
              "    </div>\n",
              "  </div>\n"
            ]
          },
          "metadata": {},
          "execution_count": 9
        }
      ],
      "source": [
        "#ATTRIBUTES\n",
        "\n",
        "# Read the attributes csv files in a dataframe format.\n",
        "df = pd.read_csv(LIST_ATTR_PATH, usecols=['image_id','Male'])\n",
        "df = df.sample(n=2500, random_state = 42).reset_index(drop=True)\n",
        "\n",
        "# Reset the columns values to categorical./\n",
        "df.loc[df['Male'] == -1,'Male'] = \"Female\"\n",
        "df.loc[df['Male'] == 1,'Male'] = \"Male\"\n",
        "\n",
        "# Change column names.\n",
        "df.columns = [\"image_id\", \"Gender\"]\n",
        "\n",
        "df.head(-10)"
      ]
    },
    {
      "cell_type": "code",
      "execution_count": null,
      "metadata": {
        "id": "66k7yOSklEOb",
        "outputId": "0775981b-740b-4a31-e1f3-b87388a6bd8e",
        "colab": {
          "base_uri": "https://localhost:8080/",
          "height": 452
        }
      },
      "outputs": [
        {
          "output_type": "error",
          "ename": "error",
          "evalue": "ignored",
          "traceback": [
            "\u001b[0;31m---------------------------------------------------------------------------\u001b[0m",
            "\u001b[0;31merror\u001b[0m                                     Traceback (most recent call last)",
            "\u001b[0;32m<ipython-input-10-6e7545dc8173>\u001b[0m in \u001b[0;36m<cell line: 2>\u001b[0;34m()\u001b[0m\n\u001b[1;32m      5\u001b[0m     \u001b[0;31m# Read an Image.\u001b[0m\u001b[0;34m\u001b[0m\u001b[0;34m\u001b[0m\u001b[0m\n\u001b[1;32m      6\u001b[0m     \u001b[0mimg\u001b[0m \u001b[0;34m=\u001b[0m \u001b[0mcv2\u001b[0m\u001b[0;34m.\u001b[0m\u001b[0mimread\u001b[0m\u001b[0;34m(\u001b[0m\u001b[0mIMG_PATH\u001b[0m \u001b[0;34m+\u001b[0m \u001b[0;34m'/'\u001b[0m \u001b[0;34m+\u001b[0m \u001b[0mdf\u001b[0m\u001b[0;34m[\u001b[0m\u001b[0;34m\"image_id\"\u001b[0m\u001b[0;34m]\u001b[0m\u001b[0;34m[\u001b[0m\u001b[0mi\u001b[0m\u001b[0;34m]\u001b[0m\u001b[0;34m)\u001b[0m\u001b[0;34m\u001b[0m\u001b[0;34m\u001b[0m\u001b[0m\n\u001b[0;32m----> 7\u001b[0;31m     \u001b[0mimg\u001b[0m \u001b[0;34m=\u001b[0m \u001b[0mcv2\u001b[0m\u001b[0;34m.\u001b[0m\u001b[0mcvtColor\u001b[0m\u001b[0;34m(\u001b[0m\u001b[0mimg\u001b[0m\u001b[0;34m,\u001b[0m \u001b[0mcv2\u001b[0m\u001b[0;34m.\u001b[0m\u001b[0mCOLOR_BGR2RGB\u001b[0m\u001b[0;34m)\u001b[0m\u001b[0;34m\u001b[0m\u001b[0;34m\u001b[0m\u001b[0m\n\u001b[0m\u001b[1;32m      8\u001b[0m \u001b[0;34m\u001b[0m\u001b[0m\n\u001b[1;32m      9\u001b[0m     \u001b[0;31m# Display Image.\u001b[0m\u001b[0;34m\u001b[0m\u001b[0;34m\u001b[0m\u001b[0m\n",
            "\u001b[0;31merror\u001b[0m: OpenCV(4.7.0) /io/opencv/modules/imgproc/src/color.cpp:182: error: (-215:Assertion failed) !_src.empty() in function 'cvtColor'\n"
          ]
        },
        {
          "output_type": "display_data",
          "data": {
            "text/plain": [
              "<Figure size 640x480 with 1 Axes>"
            ],
            "image/png": "[encoded data removed]"
          },
          "metadata": {}
        }
      ],
      "source": [
        "# Display Multiple Sample Images.\n",
        "for i in range(0, 6):\n",
        "    plt.subplot(2, 3, i+1)\n",
        "\n",
        "    # Read an Image.\n",
        "    img = cv2.imread(IMG_PATH + '/' + df[\"image_id\"][i])\n",
        "    img = cv2.cvtColor(img, cv2.COLOR_BGR2RGB)\n",
        "\n",
        "    # Display Image.\n",
        "    plt.imshow(img)\n",
        "    plt.title(img.shape)\n",
        "    plt.axis('off')\n",
        "\n",
        "plt.tight_layout()\n",
        "plt.show()\n",
        "\n",
        "# ( 160,160.3)"
      ]
    },
    {
      "cell_type": "code",
      "execution_count": null,
      "metadata": {
        "id": "lV8cFXQ0lEOb",
        "outputId": "4e99518f-d2d6-42d0-8553-298cffdba456",
        "colab": {
          "base_uri": "https://localhost:8080/"
        }
      },
      "outputs": [
        {
          "output_type": "stream",
          "name": "stdout",
          "text": [
            "Female    1442\n",
            "Male      1058\n",
            "Name: Gender, dtype: int64\n"
          ]
        }
      ],
      "source": [
        "# Get the category distribution.\n",
        "category_count = df[\"Gender\"].value_counts()\n",
        "print(category_count)\n",
        "\n",
        "higher_category = list(category_count.index)[0]"
      ]
    },
    {
      "cell_type": "code",
      "execution_count": null,
      "metadata": {
        "id": "QtcJHjU6lEOb"
      },
      "outputs": [],
      "source": [
        "# Get the indices of the higher category indices images.\n",
        "np.random.seed(42)\n",
        "indices = df[df[\"Gender\"] == higher_category].index\n",
        "sample_size = category_count[0] - category_count[1]\n",
        "\n",
        "# Drop the extra rows of female images to fix class imbalance problem.\n",
        "drop_sample = np.random.choice(indices, sample_size, replace = False)\n",
        "df = df.drop(drop_sample, axis = \"index\")"
      ]
    },
    {
      "cell_type": "code",
      "execution_count": null,
      "metadata": {
        "id": "bheViHODlEOc",
        "outputId": "f59fcb58-6f9e-456b-a0b4-420c5823339a",
        "colab": {
          "base_uri": "https://localhost:8080/",
          "height": 483
        }
      },
      "outputs": [
        {
          "output_type": "execute_result",
          "data": {
            "text/plain": [
              "<Axes: >"
            ]
          },
          "metadata": {},
          "execution_count": 13
        },
        {
          "output_type": "display_data",
          "data": {
            "text/plain": [
              "<Figure size 640x480 with 1 Axes>"
            ],
            "image/png": "[encoded data removed]"
          },
          "metadata": {}
        }
      ],
      "source": [
        "df[\"Gender\"].value_counts().plot.bar()"
      ]
    },
    {
      "cell_type": "code",
      "execution_count": null,
      "metadata": {
        "id": "SlruoVSzlEOc"
      },
      "outputs": [],
      "source": [
        "train_df, test_df = train_test_split(df, test_size=0.2)\n",
        "test_df, validation_df = train_test_split(test_df, test_size=0.33)"
      ]
    },
    {
      "cell_type": "code",
      "execution_count": null,
      "metadata": {
        "id": "mF1L2A2QlEOc",
        "outputId": "c43b4d60-fb96-4d49-a331-89fe2a98dc22",
        "colab": {
          "base_uri": "https://localhost:8080/"
        }
      },
      "outputs": [
        {
          "output_type": "stream",
          "name": "stdout",
          "text": [
            "Total Train Sample Images :  1692\n",
            "Total Test Sample Images :  284\n",
            "Total Validation Sample Images :  140\n"
          ]
        }
      ],
      "source": [
        "print(\"Total Train Sample Images : \", len(train_df))\n",
        "print(\"Total Test Sample Images : \", len(test_df))\n",
        "print(\"Total Validation Sample Images : \", len(validation_df))"
      ]
    },
    {
      "cell_type": "code",
      "execution_count": null,
      "metadata": {
        "id": "0BhmbupZlEOc",
        "outputId": "43e675db-6045-4ac9-f175-92a9ec4fdc8a",
        "colab": {
          "base_uri": "https://localhost:8080/",
          "height": 52
        }
      },
      "outputs": [
        {
          "output_type": "execute_result",
          "data": {
            "text/plain": [
              "'seed=1337\\ninput_shape=(64, 64, 3)\\nseed=1337\\nadam = 0.001\\nfre= -20\\nFC = 2048\\nE = 1\\npatience = 3\\nverbose = 1\\nfactor = 0.50\\nmin_lr = 0.0001\\nsteps_per_epoch=50\\nvalidation_steps=50\\nepochs=8'"
            ],
            "application/vnd.google.colaboratory.intrinsic+json": {
              "type": "string"
            }
          },
          "metadata": {},
          "execution_count": 16
        }
      ],
      "source": [
        "IMAGE_SIZE = (218, 178)\n",
        "BATCH_SIZE = 16\n",
        "'''seed=1337\n",
        "input_shape=(64, 64, 3)\n",
        "seed=1337\n",
        "adam = 0.001\n",
        "fre= -20\n",
        "FC = 2048\n",
        "E = 1\n",
        "patience = 3\n",
        "verbose = 1\n",
        "factor = 0.50\n",
        "min_lr = 0.0001\n",
        "steps_per_epoch=50\n",
        "validation_steps=50\n",
        "epochs=8'''"
      ]
    },
    {
      "cell_type": "code",
      "execution_count": null,
      "metadata": {
        "id": "TWrrRuQSlEOc",
        "outputId": "bca01ceb-fb39-422a-e45b-807a389a4b6e",
        "colab": {
          "base_uri": "https://localhost:8080/"
        }
      },
      "outputs": [
        {
          "output_type": "stream",
          "name": "stdout",
          "text": [
            "Found 0 validated image filenames belonging to 0 classes.\n"
          ]
        },
        {
          "output_type": "stream",
          "name": "stderr",
          "text": [
            "/usr/local/lib/python3.10/dist-packages/keras/preprocessing/image.py:1137: UserWarning: Found 1692 invalid image filename(s) in x_col=\"image_id\". These filename(s) will be ignored.\n",
            "  warnings.warn(\n"
          ]
        }
      ],
      "source": [
        "# Generate Train Images Data Generator.\n",
        "train_datagen = ImageDataGenerator(\n",
        "    rotation_range=15,\n",
        "    rescale=1./255,\n",
        "    shear_range=0.1,\n",
        "    zoom_range=0.2,\n",
        "    horizontal_flip=True,\n",
        "    width_shift_range=0.1,\n",
        "    height_shift_range=0.1,\n",
        "    fill_mode='nearest'\n",
        ")\n",
        "\n",
        "train_generator = train_datagen.flow_from_dataframe(\n",
        "    train_df,\n",
        "    IMG_PATH + \"/\",\n",
        "    x_col='image_id',\n",
        "    y_col='Gender',\n",
        "    target_size=IMAGE_SIZE,\n",
        "    class_mode='binary',\n",
        "    #seed=seed,\n",
        "    batch_size=BATCH_SIZE\n",
        ")\n"
      ]
    },
    {
      "cell_type": "code",
      "execution_count": null,
      "metadata": {
        "id": "w4oz-rhmlEOc",
        "outputId": "16732636-7e3f-4a35-d6af-6456b916d97b",
        "colab": {
          "base_uri": "https://localhost:8080/"
        }
      },
      "outputs": [
        {
          "output_type": "stream",
          "name": "stdout",
          "text": [
            "Found 0 validated image filenames belonging to 0 classes.\n"
          ]
        },
        {
          "output_type": "stream",
          "name": "stderr",
          "text": [
            "/usr/local/lib/python3.10/dist-packages/keras/preprocessing/image.py:1137: UserWarning: Found 140 invalid image filename(s) in x_col=\"image_id\". These filename(s) will be ignored.\n",
            "  warnings.warn(\n"
          ]
        }
      ],
      "source": [
        "# Generate Validation Images Data Generator.\n",
        "validation_datagen = ImageDataGenerator(rescale=1./255)\n",
        "validation_generator = validation_datagen.flow_from_dataframe(\n",
        "    validation_df,\n",
        "    IMG_PATH + \"/\",\n",
        "    x_col='image_id',\n",
        "    y_col='Gender',\n",
        "    target_size=IMAGE_SIZE,\n",
        "    class_mode='binary',\n",
        "    #seed=seed,\n",
        "    batch_size=BATCH_SIZE\n",
        ")"
      ]
    },
    {
      "cell_type": "code",
      "execution_count": null,
      "metadata": {
        "id": "jURwD8R5lEOc",
        "outputId": "99f19613-8b76-4a5f-9f6a-4838f74cd47e",
        "colab": {
          "base_uri": "https://localhost:8080/"
        }
      },
      "outputs": [
        {
          "output_type": "stream",
          "name": "stdout",
          "text": [
            "Found 0 validated image filenames.\n"
          ]
        },
        {
          "output_type": "stream",
          "name": "stderr",
          "text": [
            "/usr/local/lib/python3.10/dist-packages/keras/preprocessing/image.py:1137: UserWarning: Found 284 invalid image filename(s) in x_col=\"image_id\". These filename(s) will be ignored.\n",
            "  warnings.warn(\n"
          ]
        }
      ],
      "source": [
        "test_gen = ImageDataGenerator(rescale=1./255)\n",
        "test_generator = test_gen.flow_from_dataframe(\n",
        "    test_df,\n",
        "    IMG_PATH + \"/\",\n",
        "    x_col='image_id',\n",
        "    y_col=None,\n",
        "    class_mode=None,\n",
        "    target_size=IMAGE_SIZE,\n",
        "    batch_size=BATCH_SIZE,\n",
        "    #seed=seed,\n",
        "    shuffle=False\n",
        ")"
      ]
    },
    {
      "cell_type": "code",
      "execution_count": null,
      "metadata": {
        "id": "jT-HrcwwlEOd",
        "colab": {
          "base_uri": "https://localhost:8080/"
        },
        "outputId": "6199847a-a2f0-4e2c-ec0e-b78691959f24"
      },
      "outputs": [
        {
          "output_type": "stream",
          "name": "stdout",
          "text": [
            "Downloading data from https://storage.googleapis.com/tensorflow/keras-applications/vgg16/vgg16_weights_tf_dim_ordering_tf_kernels_notop.h5\n",
            "58889256/58889256 [==============================] - 0s 0us/step\n"
          ]
        }
      ],
      "source": [
        "import numpy as np\n",
        "from keras.applications.vgg16 import VGG16, preprocess_input\n",
        "from keras.preprocessing import image\n",
        "from keras.models import Model\n",
        "from keras.layers import Dense, GlobalAveragePooling2D\n",
        "\n",
        "base_model = VGG16(weights='imagenet', include_top=False, input_shape=IMAGE_SIZE + (3,))\n",
        "#base_model = tf.keras.applications.VGG16(input_shape=input_shape,include_top=False,weights=\"imagenet\")\n"
      ]
    },
    {
      "cell_type": "code",
      "execution_count": null,
      "metadata": {
        "id": "yT70pLCvlEOd",
        "outputId": "a84e944b-e3b1-4681-a303-669452b08ff1",
        "colab": {
          "base_uri": "https://localhost:8080/"
        }
      },
      "outputs": [
        {
          "output_type": "stream",
          "name": "stdout",
          "text": [
            "Model: \"vgg16\"\n",
            "_________________________________________________________________\n",
            " Layer (type)                Output Shape              Param #   \n",
            "=================================================================\n",
            " input_1 (InputLayer)        [(None, 218, 178, 3)]     0         \n",
            "                                                                 \n",
            " block1_conv1 (Conv2D)       (None, 218, 178, 64)      1792      \n",
            "                                                                 \n",
            " block1_conv2 (Conv2D)       (None, 218, 178, 64)      36928     \n",
            "                                                                 \n",
            " block1_pool (MaxPooling2D)  (None, 109, 89, 64)       0         \n",
            "                                                                 \n",
            " block2_conv1 (Conv2D)       (None, 109, 89, 128)      73856     \n",
            "                                                                 \n",
            " block2_conv2 (Conv2D)       (None, 109, 89, 128)      147584    \n",
            "                                                                 \n",
            " block2_pool (MaxPooling2D)  (None, 54, 44, 128)       0         \n",
            "                                                                 \n",
            " block3_conv1 (Conv2D)       (None, 54, 44, 256)       295168    \n",
            "                                                                 \n",
            " block3_conv2 (Conv2D)       (None, 54, 44, 256)       590080    \n",
            "                                                                 \n",
            " block3_conv3 (Conv2D)       (None, 54, 44, 256)       590080    \n",
            "                                                                 \n",
            " block3_pool (MaxPooling2D)  (None, 27, 22, 256)       0         \n",
            "                                                                 \n",
            " block4_conv1 (Conv2D)       (None, 27, 22, 512)       1180160   \n",
            "                                                                 \n",
            " block4_conv2 (Conv2D)       (None, 27, 22, 512)       2359808   \n",
            "                                                                 \n",
            " block4_conv3 (Conv2D)       (None, 27, 22, 512)       2359808   \n",
            "                                                                 \n",
            " block4_pool (MaxPooling2D)  (None, 13, 11, 512)       0         \n",
            "                                                                 \n",
            " block5_conv1 (Conv2D)       (None, 13, 11, 512)       2359808   \n",
            "                                                                 \n",
            " block5_conv2 (Conv2D)       (None, 13, 11, 512)       2359808   \n",
            "                                                                 \n",
            " block5_conv3 (Conv2D)       (None, 13, 11, 512)       2359808   \n",
            "                                                                 \n",
            " block5_pool (MaxPooling2D)  (None, 6, 5, 512)         0         \n",
            "                                                                 \n",
            "=================================================================\n",
            "Total params: 14,714,688\n",
            "Trainable params: 0\n",
            "Non-trainable params: 14,714,688\n",
            "_________________________________________________________________\n"
          ]
        }
      ],
      "source": [
        "base_model.trainable = False\n",
        "base_model.summary()"
      ]
    },
    {
      "cell_type": "code",
      "execution_count": null,
      "metadata": {
        "id": "SMEUtXOVlEOd",
        "outputId": "3ff0f419-f5d0-4794-9726-3f2a2ba1d576",
        "colab": {
          "base_uri": "https://localhost:8080/"
        }
      },
      "outputs": [
        {
          "output_type": "stream",
          "name": "stdout",
          "text": [
            "Model: \"sequential\"\n",
            "_________________________________________________________________\n",
            " Layer (type)                Output Shape              Param #   \n",
            "=================================================================\n",
            " vgg16 (Functional)          (None, 6, 5, 512)         14714688  \n",
            "                                                                 \n",
            " conv2d (Conv2D)             (None, 6, 5, 512)         2359808   \n",
            "                                                                 \n",
            " batch_normalization (BatchN  (None, 6, 5, 512)        2048      \n",
            " ormalization)                                                   \n",
            "                                                                 \n",
            " dropout (Dropout)           (None, 6, 5, 512)         0         \n",
            "                                                                 \n",
            " conv2d_1 (Conv2D)           (None, 6, 5, 256)         1179904   \n",
            "                                                                 \n",
            " batch_normalization_1 (Batc  (None, 6, 5, 256)        1024      \n",
            " hNormalization)                                                 \n",
            "                                                                 \n",
            " dropout_1 (Dropout)         (None, 6, 5, 256)         0         \n",
            "                                                                 \n",
            " conv2d_2 (Conv2D)           (None, 6, 5, 128)         295040    \n",
            "                                                                 \n",
            " batch_normalization_2 (Batc  (None, 6, 5, 128)        512       \n",
            " hNormalization)                                                 \n",
            "                                                                 \n",
            " dropout_2 (Dropout)         (None, 6, 5, 128)         0         \n",
            "                                                                 \n",
            " conv2d_3 (Conv2D)           (None, 6, 5, 64)          73792     \n",
            "                                                                 \n",
            " batch_normalization_3 (Batc  (None, 6, 5, 64)         256       \n",
            " hNormalization)                                                 \n",
            "                                                                 \n",
            " dropout_3 (Dropout)         (None, 6, 5, 64)          0         \n",
            "                                                                 \n",
            " conv2d_4 (Conv2D)           (None, 6, 5, 32)          18464     \n",
            "                                                                 \n",
            " batch_normalization_4 (Batc  (None, 6, 5, 32)         128       \n",
            " hNormalization)                                                 \n",
            "                                                                 \n",
            " conv2d_5 (Conv2D)           (None, 6, 5, 16)          4624      \n",
            "                                                                 \n",
            " batch_normalization_5 (Batc  (None, 6, 5, 16)         64        \n",
            " hNormalization)                                                 \n",
            "                                                                 \n",
            " conv2d_6 (Conv2D)           (None, 6, 5, 8)           1160      \n",
            "                                                                 \n",
            " batch_normalization_6 (Batc  (None, 6, 5, 8)          32        \n",
            " hNormalization)                                                 \n",
            "                                                                 \n",
            " conv2d_7 (Conv2D)           (None, 6, 5, 4)           292       \n",
            "                                                                 \n",
            " batch_normalization_7 (Batc  (None, 6, 5, 4)          16        \n",
            " hNormalization)                                                 \n",
            "                                                                 \n",
            " max_pooling2d (MaxPooling2D  (None, 3, 3, 4)          0         \n",
            " )                                                               \n",
            "                                                                 \n",
            " flatten (Flatten)           (None, 36)                0         \n",
            "                                                                 \n",
            " dense (Dense)               (None, 256)               9472      \n",
            "                                                                 \n",
            " dropout_4 (Dropout)         (None, 256)               0         \n",
            "                                                                 \n",
            " dense_1 (Dense)             (None, 256)               65792     \n",
            "                                                                 \n",
            " dropout_5 (Dropout)         (None, 256)               0         \n",
            "                                                                 \n",
            " dense_2 (Dense)             (None, 64)                16448     \n",
            "                                                                 \n",
            " dropout_6 (Dropout)         (None, 64)                0         \n",
            "                                                                 \n",
            " dense_3 (Dense)             (None, 32)                2080      \n",
            "                                                                 \n",
            " dropout_7 (Dropout)         (None, 32)                0         \n",
            "                                                                 \n",
            " dense_4 (Dense)             (None, 32)                1056      \n",
            "                                                                 \n",
            " dropout_8 (Dropout)         (None, 32)                0         \n",
            "                                                                 \n",
            " dense_5 (Dense)             (None, 2)                 66        \n",
            "                                                                 \n",
            "=================================================================\n",
            "Total params: 18,746,766\n",
            "Trainable params: 4,030,038\n",
            "Non-trainable params: 14,716,728\n",
            "_________________________________________________________________\n"
          ]
        }
      ],
      "source": [
        "# Building Model\n",
        "model=Sequential()\n",
        "model.add(base_model)\n",
        "#model.add(layers.Dropout(.2))\n",
        "\n",
        "model.add(Conv2D(512, (3, 3),strides=(1,1), activation='relu', padding='same'))\n",
        "model.add(BatchNormalization())\n",
        "model.add(layers.Dropout(.1))\n",
        "model.add(Conv2D(256, (3, 3),strides=(1,1), activation='relu', padding='same'))\n",
        "model.add(BatchNormalization())\n",
        "model.add(layers.Dropout(.1))\n",
        "model.add(Conv2D(128, (3, 3),strides=(1,1), activation='relu', padding='same'))\n",
        "model.add(BatchNormalization())\n",
        "model.add(layers.Dropout(.1))\n",
        "model.add(Conv2D(64, (3, 3),strides=(1,1), activation='relu', padding='same'))\n",
        "model.add(BatchNormalization())\n",
        "model.add(layers.Dropout(.1))\n",
        "model.add(Conv2D(32, (3, 3),strides=(1,1), activation='relu', padding='same'))\n",
        "model.add(BatchNormalization())\n",
        "model.add(Conv2D(16, (3, 3),strides=(1,1), activation='relu', padding='same'))\n",
        "model.add(BatchNormalization())\n",
        "model.add(Conv2D(8, (3, 3),strides=(1,1), activation='relu', padding='same'))\n",
        "model.add(BatchNormalization())\n",
        "model.add(Conv2D(4, (3, 3),strides=(1,1), activation='relu', padding='same'))\n",
        "model.add(BatchNormalization())\n",
        "model.add(MaxPooling2D(2,strides=(2,2), padding='same'))\n",
        "\n",
        "# Add new layers\n",
        "model.add(Flatten())\n",
        "model.add(Dense(256 , activation='relu'))\n",
        "model.add(layers.Dropout(.2))\n",
        "model.add(Dense(256 , activation='relu'))\n",
        "model.add(layers.Dropout(.2))\n",
        "model.add(Dense(64, activation='relu'))\n",
        "model.add(layers.Dropout(.2))\n",
        "model.add(Dense(32, activation='relu'))\n",
        "model.add(layers.Dropout(.2))\n",
        "model.add(Dense(32, activation='relu'))\n",
        "model.add(layers.Dropout(.2))\n",
        "model.add(Dense(2, activation='sigmoid'))\n",
        "\n",
        "model.summary()"
      ]
    },
    {
      "cell_type": "code",
      "execution_count": null,
      "metadata": {
        "id": "N4pkO-ZGlEOd"
      },
      "outputs": [],
      "source": [
        "'''model = Sequential(\n",
        "    [\n",
        "    base_model, #mobilenet\n",
        "    Flatten(),\n",
        "    Dense(256,activation='relu'),\n",
        "    Dense(256,activation='relu'),\n",
        "    Dense(64,activation='relu'),\n",
        "    Dense(32, activation='relu'),\n",
        "    Dense(32, activation='relu'),\n",
        "    Dense(2, activation='sigmoid')\n",
        "]\n",
        ")\n",
        "\n",
        "x = base_model.output\n",
        "predictions = Dense(2, activation='sigmoid') (x)'''"
      ]
    },
    {
      "cell_type": "code",
      "execution_count": null,
      "metadata": {
        "id": "exRlJoaPlEOd",
        "outputId": "f39915de-1dbb-4561-aca9-67a65c171544",
        "colab": {
          "base_uri": "https://localhost:8080/"
        }
      },
      "outputs": [
        {
          "output_type": "stream",
          "name": "stdout",
          "text": [
            "Model: \"sequential\"\n",
            "_________________________________________________________________\n",
            " Layer (type)                Output Shape              Param #   \n",
            "=================================================================\n",
            " vgg16 (Functional)          (None, 6, 5, 512)         14714688  \n",
            "                                                                 \n",
            " conv2d (Conv2D)             (None, 6, 5, 512)         2359808   \n",
            "                                                                 \n",
            " batch_normalization (BatchN  (None, 6, 5, 512)        2048      \n",
            " ormalization)                                                   \n",
            "                                                                 \n",
            " dropout (Dropout)           (None, 6, 5, 512)         0         \n",
            "                                                                 \n",
            " conv2d_1 (Conv2D)           (None, 6, 5, 256)         1179904   \n",
            "                                                                 \n",
            " batch_normalization_1 (Batc  (None, 6, 5, 256)        1024      \n",
            " hNormalization)                                                 \n",
            "                                                                 \n",
            " dropout_1 (Dropout)         (None, 6, 5, 256)         0         \n",
            "                                                                 \n",
            " conv2d_2 (Conv2D)           (None, 6, 5, 128)         295040    \n",
            "                                                                 \n",
            " batch_normalization_2 (Batc  (None, 6, 5, 128)        512       \n",
            " hNormalization)                                                 \n",
            "                                                                 \n",
            " dropout_2 (Dropout)         (None, 6, 5, 128)         0         \n",
            "                                                                 \n",
            " conv2d_3 (Conv2D)           (None, 6, 5, 64)          73792     \n",
            "                                                                 \n",
            " batch_normalization_3 (Batc  (None, 6, 5, 64)         256       \n",
            " hNormalization)                                                 \n",
            "                                                                 \n",
            " dropout_3 (Dropout)         (None, 6, 5, 64)          0         \n",
            "                                                                 \n",
            " conv2d_4 (Conv2D)           (None, 6, 5, 32)          18464     \n",
            "                                                                 \n",
            " batch_normalization_4 (Batc  (None, 6, 5, 32)         128       \n",
            " hNormalization)                                                 \n",
            "                                                                 \n",
            " conv2d_5 (Conv2D)           (None, 6, 5, 16)          4624      \n",
            "                                                                 \n",
            " batch_normalization_5 (Batc  (None, 6, 5, 16)         64        \n",
            " hNormalization)                                                 \n",
            "                                                                 \n",
            " conv2d_6 (Conv2D)           (None, 6, 5, 8)           1160      \n",
            "                                                                 \n",
            " batch_normalization_6 (Batc  (None, 6, 5, 8)          32        \n",
            " hNormalization)                                                 \n",
            "                                                                 \n",
            " conv2d_7 (Conv2D)           (None, 6, 5, 4)           292       \n",
            "                                                                 \n",
            " batch_normalization_7 (Batc  (None, 6, 5, 4)          16        \n",
            " hNormalization)                                                 \n",
            "                                                                 \n",
            " max_pooling2d (MaxPooling2D  (None, 3, 3, 4)          0         \n",
            " )                                                               \n",
            "                                                                 \n",
            " flatten (Flatten)           (None, 36)                0         \n",
            "                                                                 \n",
            " dense (Dense)               (None, 256)               9472      \n",
            "                                                                 \n",
            " dropout_4 (Dropout)         (None, 256)               0         \n",
            "                                                                 \n",
            " dense_1 (Dense)             (None, 256)               65792     \n",
            "                                                                 \n",
            " dropout_5 (Dropout)         (None, 256)               0         \n",
            "                                                                 \n",
            " dense_2 (Dense)             (None, 64)                16448     \n",
            "                                                                 \n",
            " dropout_6 (Dropout)         (None, 64)                0         \n",
            "                                                                 \n",
            " dense_3 (Dense)             (None, 32)                2080      \n",
            "                                                                 \n",
            " dropout_7 (Dropout)         (None, 32)                0         \n",
            "                                                                 \n",
            " dense_4 (Dense)             (None, 32)                1056      \n",
            "                                                                 \n",
            " dropout_8 (Dropout)         (None, 32)                0         \n",
            "                                                                 \n",
            " dense_5 (Dense)             (None, 2)                 66        \n",
            "                                                                 \n",
            "=================================================================\n",
            "Total params: 18,746,766\n",
            "Trainable params: 4,030,038\n",
            "Non-trainable params: 14,716,728\n",
            "_________________________________________________________________\n"
          ]
        }
      ],
      "source": [
        "model.compile(optimizer='adam', loss='sparse_categorical_crossentropy', metrics=['accuracy'])\n",
        "model.summary()"
      ]
    },
    {
      "cell_type": "code",
      "execution_count": null,
      "metadata": {
        "id": "gEpW1WVflEOd"
      },
      "outputs": [],
      "source": [
        "from keras.callbacks import ModelCheckpoint\n",
        "\n",
        "checkpointer = ModelCheckpoint(filepath='model1.hdf5', # load\n",
        "                               verbose=1, save_best_only=True)"
      ]
    },
    {
      "cell_type": "code",
      "execution_count": null,
      "metadata": {
        "id": "GKlv4WpklEOd"
      },
      "outputs": [],
      "source": [
        "patience = 4\n",
        "verbose = 1\n",
        "factor = 0.5\n",
        "min_lr = 0.0001\n",
        "\n",
        "earlystop = EarlyStopping(patience=10)\n",
        "lrd = ReduceLROnPlateau(monitor = 'val_accuracy',\n",
        "                        patience = patience,\n",
        "                        verbose = verbose ,\n",
        "                        factor = factor,\n",
        "                        min_lr = min_lr)\n",
        "\n",
        "#mcp = ModelCheckpoint('model.h5')\n",
        "\n",
        "#callbacks = EarlyStopping(verbose=verbose, patience=patience)\n",
        "\n",
        "callbacks = [earlystop, lrd, checkpointer]"
      ]
    },
    {
      "cell_type": "code",
      "execution_count": null,
      "metadata": {
        "id": "unjou7VNlEOd",
        "outputId": "c01b90dc-4fb8-43b4-8636-00d56117515b",
        "colab": {
          "base_uri": "https://localhost:8080/",
          "height": 363
        }
      },
      "outputs": [
        {
          "output_type": "error",
          "ename": "ValueError",
          "evalue": "ignored",
          "traceback": [
            "\u001b[0;31m---------------------------------------------------------------------------\u001b[0m",
            "\u001b[0;31mValueError\u001b[0m                                Traceback (most recent call last)",
            "\u001b[0;32m<ipython-input-26-a60e95d28065>\u001b[0m in \u001b[0;36m<cell line: 1>\u001b[0;34m()\u001b[0m\n\u001b[0;32m----> 1\u001b[0;31m history = model.fit(train_generator, validation_data = validation_generator\n\u001b[0m\u001b[1;32m      2\u001b[0m                         \u001b[0;34m,\u001b[0m \u001b[0mvalidation_steps\u001b[0m\u001b[0;34m=\u001b[0m\u001b[0mlen\u001b[0m\u001b[0;34m(\u001b[0m\u001b[0mvalidation_df\u001b[0m\u001b[0;34m)\u001b[0m\u001b[0;34m//\u001b[0m\u001b[0mBATCH_SIZE\u001b[0m\u001b[0;34m\u001b[0m\u001b[0;34m\u001b[0m\u001b[0m\n\u001b[1;32m      3\u001b[0m                         \u001b[0;34m,\u001b[0m\u001b[0msteps_per_epoch\u001b[0m\u001b[0;34m=\u001b[0m\u001b[0mlen\u001b[0m\u001b[0;34m(\u001b[0m\u001b[0mtrain_df\u001b[0m\u001b[0;34m)\u001b[0m\u001b[0;34m//\u001b[0m\u001b[0mBATCH_SIZE\u001b[0m\u001b[0;34m,\u001b[0m\u001b[0;34m\u001b[0m\u001b[0;34m\u001b[0m\u001b[0m\n\u001b[1;32m      4\u001b[0m                         epochs=10, verbose = 1, callbacks=callbacks)\n",
            "\u001b[0;32m/usr/local/lib/python3.10/dist-packages/keras/utils/traceback_utils.py\u001b[0m in \u001b[0;36merror_handler\u001b[0;34m(*args, **kwargs)\u001b[0m\n\u001b[1;32m     68\u001b[0m             \u001b[0;31m# To get the full stack trace, call:\u001b[0m\u001b[0;34m\u001b[0m\u001b[0;34m\u001b[0m\u001b[0m\n\u001b[1;32m     69\u001b[0m             \u001b[0;31m# `tf.debugging.disable_traceback_filtering()`\u001b[0m\u001b[0;34m\u001b[0m\u001b[0;34m\u001b[0m\u001b[0m\n\u001b[0;32m---> 70\u001b[0;31m             \u001b[0;32mraise\u001b[0m \u001b[0me\u001b[0m\u001b[0;34m.\u001b[0m\u001b[0mwith_traceback\u001b[0m\u001b[0;34m(\u001b[0m\u001b[0mfiltered_tb\u001b[0m\u001b[0;34m)\u001b[0m \u001b[0;32mfrom\u001b[0m \u001b[0;32mNone\u001b[0m\u001b[0;34m\u001b[0m\u001b[0;34m\u001b[0m\u001b[0m\n\u001b[0m\u001b[1;32m     71\u001b[0m         \u001b[0;32mfinally\u001b[0m\u001b[0;34m:\u001b[0m\u001b[0;34m\u001b[0m\u001b[0;34m\u001b[0m\u001b[0m\n\u001b[1;32m     72\u001b[0m             \u001b[0;32mdel\u001b[0m \u001b[0mfiltered_tb\u001b[0m\u001b[0;34m\u001b[0m\u001b[0;34m\u001b[0m\u001b[0m\n",
            "\u001b[0;32m/usr/local/lib/python3.10/dist-packages/keras/preprocessing/image.py\u001b[0m in \u001b[0;36m__getitem__\u001b[0;34m(self, idx)\u001b[0m\n\u001b[1;32m    101\u001b[0m     \u001b[0;32mdef\u001b[0m \u001b[0m__getitem__\u001b[0m\u001b[0;34m(\u001b[0m\u001b[0mself\u001b[0m\u001b[0;34m,\u001b[0m \u001b[0midx\u001b[0m\u001b[0;34m)\u001b[0m\u001b[0;34m:\u001b[0m\u001b[0;34m\u001b[0m\u001b[0;34m\u001b[0m\u001b[0m\n\u001b[1;32m    102\u001b[0m         \u001b[0;32mif\u001b[0m \u001b[0midx\u001b[0m \u001b[0;34m>=\u001b[0m \u001b[0mlen\u001b[0m\u001b[0;34m(\u001b[0m\u001b[0mself\u001b[0m\u001b[0;34m)\u001b[0m\u001b[0;34m:\u001b[0m\u001b[0;34m\u001b[0m\u001b[0;34m\u001b[0m\u001b[0m\n\u001b[0;32m--> 103\u001b[0;31m             raise ValueError(\n\u001b[0m\u001b[1;32m    104\u001b[0m                 \u001b[0;34m\"Asked to retrieve element {idx}, \"\u001b[0m\u001b[0;34m\u001b[0m\u001b[0;34m\u001b[0m\u001b[0m\n\u001b[1;32m    105\u001b[0m                 \u001b[0;34m\"but the Sequence \"\u001b[0m\u001b[0;34m\u001b[0m\u001b[0;34m\u001b[0m\u001b[0m\n",
            "\u001b[0;31mValueError\u001b[0m: Asked to retrieve element 0, but the Sequence has length 0"
          ]
        }
      ],
      "source": [
        "history = model.fit(train_generator, validation_data = validation_generator\n",
        "                        , validation_steps=len(validation_df)//BATCH_SIZE\n",
        "                        ,steps_per_epoch=len(train_df)//BATCH_SIZE,\n",
        "                        epochs=10, verbose = 1, callbacks=callbacks)\n"
      ]
    },
    {
      "cell_type": "code",
      "execution_count": null,
      "metadata": {
        "id": "UYggLe8_lEOe",
        "outputId": "3662bca8-8c7e-4dce-9f20-8ae549f085d8"
      },
      "outputs": [
        {
          "data": {
            "image/png": "[encoded data removed]",
            "text/plain": [
              "<Figure size 800x800 with 2 Axes>"
            ]
          },
          "metadata": {},
          "output_type": "display_data"
        }
      ],
      "source": [
        "acc = history.history['accuracy']\n",
        "val_acc = history.history['val_accuracy']\n",
        "\n",
        "loss = history.history['loss']\n",
        "val_loss = history.history['val_loss']\n",
        "\n",
        "plt.figure(figsize=(8, 8))\n",
        "plt.subplot(2, 1, 1)\n",
        "plt.plot(acc, label='Training Accuracy')\n",
        "plt.plot(val_acc, label='Validation Accuracy')\n",
        "plt.legend(loc='lower right')\n",
        "plt.ylabel('Accuracy')\n",
        "plt.ylim([min(plt.ylim()),1])\n",
        "plt.title('Training and Validation Accuracy')\n",
        "\n",
        "plt.subplot(2, 1, 2)\n",
        "plt.plot(loss, label='Training Loss')\n",
        "plt.plot(val_loss, label='Validation Loss')\n",
        "plt.legend(loc='upper right')\n",
        "plt.ylabel('Cross Entropy')\n",
        "plt.ylim([0,1.0])\n",
        "plt.title('Training and Validation Loss')\n",
        "plt.xlabel('epoch')\n",
        "plt.show()"
      ]
    },
    {
      "cell_type": "code",
      "execution_count": null,
      "metadata": {
        "id": "5AhghxuPlEOe"
      },
      "outputs": [],
      "source": [
        "model.load_weights('model1.hdf5')"
      ]
    },
    {
      "cell_type": "code",
      "execution_count": null,
      "metadata": {
        "id": "7Npc85BllEOe",
        "outputId": "33819949-f278-4bd3-8f12-50c87e140c3f"
      },
      "outputs": [
        {
          "name": "stdout",
          "output_type": "stream",
          "text": [
            "18/18 [==============================] - 1s 54ms/step\n"
          ]
        }
      ],
      "source": [
        "predict = model.predict(test_generator, steps=np.ceil(len(test_df)/BATCH_SIZE))"
      ]
    },
    {
      "cell_type": "code",
      "execution_count": null,
      "metadata": {
        "id": "EHHOZj4WlEOe"
      },
      "outputs": [],
      "source": [
        "prediction = predict.argmax(axis=-1)\n",
        "test_df['Prediction'] = [\"Male\" if ele == 1 else \"Female\" for ele in prediction]"
      ]
    },
    {
      "cell_type": "code",
      "execution_count": null,
      "metadata": {
        "id": "qiuHxez1lEOe",
        "outputId": "48f0822a-c168-407e-a9e6-ba1e496a85e4"
      },
      "outputs": [
        {
          "data": {
            "text/html": [
              "<div>\n",
              "<style scoped>\n",
              "    .dataframe tbody tr th:only-of-type {\n",
              "        vertical-align: middle;\n",
              "    }\n",
              "\n",
              "    .dataframe tbody tr th {\n",
              "        vertical-align: top;\n",
              "    }\n",
              "\n",
              "    .dataframe thead th {\n",
              "        text-align: right;\n",
              "    }\n",
              "</style>\n",
              "<table border=\"1\" class=\"dataframe\">\n",
              "  <thead>\n",
              "    <tr style=\"text-align: right;\">\n",
              "      <th></th>\n",
              "      <th>image_id</th>\n",
              "      <th>Gender</th>\n",
              "      <th>Prediction</th>\n",
              "    </tr>\n",
              "  </thead>\n",
              "  <tbody>\n",
              "    <tr>\n",
              "      <th>119</th>\n",
              "      <td>071160.jpg</td>\n",
              "      <td>Female</td>\n",
              "      <td>Female</td>\n",
              "    </tr>\n",
              "    <tr>\n",
              "      <th>2406</th>\n",
              "      <td>162337.jpg</td>\n",
              "      <td>Female</td>\n",
              "      <td>Female</td>\n",
              "    </tr>\n",
              "    <tr>\n",
              "      <th>914</th>\n",
              "      <td>060475.jpg</td>\n",
              "      <td>Male</td>\n",
              "      <td>Male</td>\n",
              "    </tr>\n",
              "    <tr>\n",
              "      <th>1230</th>\n",
              "      <td>102227.jpg</td>\n",
              "      <td>Male</td>\n",
              "      <td>Female</td>\n",
              "    </tr>\n",
              "    <tr>\n",
              "      <th>976</th>\n",
              "      <td>148106.jpg</td>\n",
              "      <td>Male</td>\n",
              "      <td>Male</td>\n",
              "    </tr>\n",
              "    <tr>\n",
              "      <th>...</th>\n",
              "      <td>...</td>\n",
              "      <td>...</td>\n",
              "      <td>...</td>\n",
              "    </tr>\n",
              "    <tr>\n",
              "      <th>1461</th>\n",
              "      <td>107642.jpg</td>\n",
              "      <td>Female</td>\n",
              "      <td>Female</td>\n",
              "    </tr>\n",
              "    <tr>\n",
              "      <th>780</th>\n",
              "      <td>187640.jpg</td>\n",
              "      <td>Male</td>\n",
              "      <td>Male</td>\n",
              "    </tr>\n",
              "    <tr>\n",
              "      <th>612</th>\n",
              "      <td>152534.jpg</td>\n",
              "      <td>Male</td>\n",
              "      <td>Male</td>\n",
              "    </tr>\n",
              "    <tr>\n",
              "      <th>2334</th>\n",
              "      <td>140047.jpg</td>\n",
              "      <td>Male</td>\n",
              "      <td>Male</td>\n",
              "    </tr>\n",
              "    <tr>\n",
              "      <th>2315</th>\n",
              "      <td>140192.jpg</td>\n",
              "      <td>Male</td>\n",
              "      <td>Male</td>\n",
              "    </tr>\n",
              "  </tbody>\n",
              "</table>\n",
              "<p>284 rows × 3 columns</p>\n",
              "</div>"
            ],
            "text/plain": [
              "        image_id  Gender Prediction\n",
              "119   071160.jpg  Female     Female\n",
              "2406  162337.jpg  Female     Female\n",
              "914   060475.jpg    Male       Male\n",
              "1230  102227.jpg    Male     Female\n",
              "976   148106.jpg    Male       Male\n",
              "...          ...     ...        ...\n",
              "1461  107642.jpg  Female     Female\n",
              "780   187640.jpg    Male       Male\n",
              "612   152534.jpg    Male       Male\n",
              "2334  140047.jpg    Male       Male\n",
              "2315  140192.jpg    Male       Male\n",
              "\n",
              "[284 rows x 3 columns]"
            ]
          },
          "execution_count": 89,
          "metadata": {},
          "output_type": "execute_result"
        }
      ],
      "source": [
        "test_df"
      ]
    },
    {
      "cell_type": "code",
      "execution_count": null,
      "metadata": {
        "id": "dUqDtudjlEOe",
        "outputId": "b3d03f83-ff33-4edb-ac29-26787cf810f6"
      },
      "outputs": [
        {
          "data": {
            "text/plain": [
              "array([[124,  12],\n",
              "       [ 10, 138]], dtype=int64)"
            ]
          },
          "execution_count": 90,
          "metadata": {},
          "output_type": "execute_result"
        }
      ],
      "source": [
        "labels = ['Male','Female']\n",
        "\n",
        "cm = confusion_matrix(test_df['Gender'], test_df[\"Prediction\"], labels= labels)\n",
        "cm"
      ]
    },
    {
      "cell_type": "code",
      "execution_count": null,
      "metadata": {
        "id": "ZcuwRMLwlEOf",
        "outputId": "161e496c-b8fe-4e97-f2e9-3426493426ff"
      },
      "outputs": [
        {
          "data": {
            "image/png": "[encoded data removed]",
            "text/plain": [
              "<Figure size 640x480 with 2 Axes>"
            ]
          },
          "metadata": {},
          "output_type": "display_data"
        }
      ],
      "source": [
        "disp = ConfusionMatrixDisplay(confusion_matrix=cm,display_labels=labels)\n",
        "disp.plot()\n",
        "plt.show()"
      ]
    },
    {
      "cell_type": "code",
      "execution_count": null,
      "metadata": {
        "id": "87YSuJiElEOf",
        "outputId": "684f3df4-93af-4915-f2ac-77d6fd16274c"
      },
      "outputs": [
        {
          "name": "stdout",
          "output_type": "stream",
          "text": [
            "              precision    recall  f1-score   support\n",
            "\n",
            "        Male       0.93      0.91      0.92       136\n",
            "      Female       0.92      0.93      0.93       148\n",
            "\n",
            "    accuracy                           0.92       284\n",
            "   macro avg       0.92      0.92      0.92       284\n",
            "weighted avg       0.92      0.92      0.92       284\n",
            "\n"
          ]
        }
      ],
      "source": [
        "from sklearn.metrics import confusion_matrix, ConfusionMatrixDisplay, classification_report\n",
        "\n",
        "print(classification_report(test_df['Gender'], test_df[\"Prediction\"], labels= labels))"
      ]
    },
    {
      "cell_type": "code",
      "execution_count": null,
      "metadata": {
        "id": "VpKMrXrblEOf"
      },
      "outputs": [],
      "source": [
        "gender_target = {0: 'Female', 1: 'Male'}\n",
        "\n",
        "def img_to_display(filename):\n",
        "    # inspired on this kernel:\n",
        "    # https://www.kaggle.com/stassl/displaying-inline-images-in-pandas-dataframe\n",
        "    # credits to stassl :)\n",
        "\n",
        "    i = Image.open(filename)\n",
        "    i.thumbnail((200, 200), Image.LANCZOS)\n",
        "\n",
        "    with BytesIO() as buffer:\n",
        "        i.save(buffer, 'jpeg')\n",
        "        return base64.b64encode(buffer.getvalue()).decode()\n",
        "\n",
        "\n",
        "def display_result(filename, prediction, target):\n",
        "    '''\n",
        "    Display the results in HTML\n",
        "\n",
        "    '''\n",
        "\n",
        "    gender = 'Male'\n",
        "    gender_icon = \"https://i.imgur.com/nxWan2u.png\"\n",
        "\n",
        "    if prediction[1] <= 0.5:\n",
        "        gender_icon = \"https://i.imgur.com/oAAb8rd.png\"\n",
        "        gender = 'Female'\n",
        "\n",
        "    display_html = '''\n",
        "    <div style=\"overflow: auto;  border: 2px solid #D8D8D8;\n",
        "        padding: 5px; width: 420px;\" >\n",
        "        <img src=\"data:image/jpeg;base64,{}\" style=\"float: left;\" width=\"200\" height=\"200\">\n",
        "        <div style=\"padding: 10px 0px 0px 20px; overflow: auto;\">\n",
        "            <img src=\"{}\" style=\"float: left;\" width=\"40\" height=\"40\">\n",
        "            <h3 style=\"margin-left: 50px; margin-top: 2px;\">{}</h3>\n",
        "            <p style=\"margin-left: 50px; margin-top: -6px; font-size: 12px\">{} prob.</p>\n",
        "            <p style=\"margin-left: 50px; margin-top: -16px; font-size: 12px\">Real Target: {}</p>\n",
        "            <p style=\"margin-left: 50px; margin-top: -16px; font-size: 12px\">Filename: {}</p>\n",
        "        </div>\n",
        "    </div>\n",
        "    '''.format(img_to_display(filename)\n",
        "               , gender_icon\n",
        "               , gender\n",
        "               , \"{0:.2f}%\".format(round(max(prediction)*100,2))\n",
        "               , gender_target[target]\n",
        "               , filename.split('/')[-1]\n",
        "               )\n",
        "\n",
        "    display(HTML(display_html))"
      ]
    },
    {
      "cell_type": "code",
      "execution_count": null,
      "metadata": {
        "id": "ccoDkbUolEOf"
      },
      "outputs": [],
      "source": [
        "def gender_prediction(filename):\n",
        "    '''\n",
        "    predict the gender\n",
        "\n",
        "    input:\n",
        "        filename: str of the file name\n",
        "\n",
        "    return:\n",
        "        array of the prob of the targets.\n",
        "\n",
        "    '''\n",
        "\n",
        "    im = cv2.imread(filename)\n",
        "    im = cv2.resize(cv2.cvtColor(im, cv2.COLOR_BGR2RGB), (178, 218)).astype(np.float32) / 255.0\n",
        "    im = np.expand_dims(im, axis =0)\n",
        "\n",
        "    # prediction\n",
        "    result = model.predict(im)\n",
        "    prediction = np.argmax(result)\n",
        "\n",
        "    return result"
      ]
    },
    {
      "cell_type": "code",
      "execution_count": null,
      "metadata": {
        "id": "QPReWOMOlEOf",
        "outputId": "4ca1da12-a16f-410e-8d39-c30656983e86"
      },
      "outputs": [
        {
          "name": "stdout",
          "output_type": "stream",
          "text": [
            "1/1 [==============================] - 0s 318ms/step\n"
          ]
        },
        {
          "data": {
            "text/html": [
              "\n",
              "    <div style=\"overflow: auto;  border: 2px solid #D8D8D8;\n",
              "        padding: 5px; width: 420px;\" >\n",
              "        <img src=\"data:image/jpeg;base64,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\" style=\"float: left;\" width=\"200\" height=\"200\">\n",
              "        <div style=\"padding: 10px 0px 0px 20px; overflow: auto;\">\n",
              "            <img src=\"https://i.imgur.com/oAAb8rd.png\" style=\"float: left;\" width=\"40\" height=\"40\">\n",
              "            <h3 style=\"margin-left: 50px; margin-top: 2px;\">Female</h3>\n",
              "            <p style=\"margin-left: 50px; margin-top: -6px; font-size: 12px\">94.13% prob.</p>\n",
              "            <p style=\"margin-left: 50px; margin-top: -16px; font-size: 12px\">Real Target: Female</p>\n",
              "            <p style=\"margin-left: 50px; margin-top: -16px; font-size: 12px\">Filename: 187146.jpg</p>\n",
              "        </div>\n",
              "    </div>\n",
              "    "
            ],
            "text/plain": [
              "<IPython.core.display.HTML object>"
            ]
          },
          "metadata": {},
          "output_type": "display_data"
        },
        {
          "name": "stdout",
          "output_type": "stream",
          "text": [
            "1/1 [==============================] - 0s 27ms/step\n"
          ]
        },
        {
          "data": {
            "text/html": [
              "\n",
              "    <div style=\"overflow: auto;  border: 2px solid #D8D8D8;\n",
              "        padding: 5px; width: 420px;\" >\n",
              "        <img src=\"data:image/jpeg;base64,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\" style=\"float: left;\" width=\"200\" height=\"200\">\n",
              "        <div style=\"padding: 10px 0px 0px 20px; overflow: auto;\">\n",
              "            <img src=\"https://i.imgur.com/nxWan2u.png\" style=\"float: left;\" width=\"40\" height=\"40\">\n",
              "            <h3 style=\"margin-left: 50px; margin-top: 2px;\">Male</h3>\n",
              "            <p style=\"margin-left: 50px; margin-top: -6px; font-size: 12px\">86.35% prob.</p>\n",
              "            <p style=\"margin-left: 50px; margin-top: -16px; font-size: 12px\">Real Target: Male</p>\n",
              "            <p style=\"margin-left: 50px; margin-top: -16px; font-size: 12px\">Filename: 201772.jpg</p>\n",
              "        </div>\n",
              "    </div>\n",
              "    "
            ],
            "text/plain": [
              "<IPython.core.display.HTML object>"
            ]
          },
          "metadata": {},
          "output_type": "display_data"
        },
        {
          "name": "stdout",
          "output_type": "stream",
          "text": [
            "1/1 [==============================] - 0s 25ms/step\n"
          ]
        },
        {
          "data": {
            "text/html": [
              "\n",
              "    <div style=\"overflow: auto;  border: 2px solid #D8D8D8;\n",
              "        padding: 5px; width: 420px;\" >\n",
              "        <img src=\"data:image/jpeg;base64,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\" style=\"float: left;\" width=\"200\" height=\"200\">\n",
              "        <div style=\"padding: 10px 0px 0px 20px; overflow: auto;\">\n",
              "            <img src=\"https://i.imgur.com/nxWan2u.png\" style=\"float: left;\" width=\"40\" height=\"40\">\n",
              "            <h3 style=\"margin-left: 50px; margin-top: 2px;\">Male</h3>\n",
              "            <p style=\"margin-left: 50px; margin-top: -6px; font-size: 12px\">57.78% prob.</p>\n",
              "            <p style=\"margin-left: 50px; margin-top: -16px; font-size: 12px\">Real Target: Male</p>\n",
              "            <p style=\"margin-left: 50px; margin-top: -16px; font-size: 12px\">Filename: 199674.jpg</p>\n",
              "        </div>\n",
              "    </div>\n",
              "    "
            ],
            "text/plain": [
              "<IPython.core.display.HTML object>"
            ]
          },
          "metadata": {},
          "output_type": "display_data"
        },
        {
          "name": "stdout",
          "output_type": "stream",
          "text": [
            "1/1 [==============================] - 0s 22ms/step\n"
          ]
        },
        {
          "data": {
            "text/html": [
              "\n",
              "    <div style=\"overflow: auto;  border: 2px solid #D8D8D8;\n",
              "        padding: 5px; width: 420px;\" >\n",
              "        <img src=\"data:image/jpeg;base64,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\" style=\"float: left;\" width=\"200\" height=\"200\">\n",
              "        <div style=\"padding: 10px 0px 0px 20px; overflow: auto;\">\n",
              "            <img src=\"https://i.imgur.com/oAAb8rd.png\" style=\"float: left;\" width=\"40\" height=\"40\">\n",
              "            <h3 style=\"margin-left: 50px; margin-top: 2px;\">Female</h3>\n",
              "            <p style=\"margin-left: 50px; margin-top: -6px; font-size: 12px\">99.98% prob.</p>\n",
              "            <p style=\"margin-left: 50px; margin-top: -16px; font-size: 12px\">Real Target: Female</p>\n",
              "            <p style=\"margin-left: 50px; margin-top: -16px; font-size: 12px\">Filename: 201842.jpg</p>\n",
              "        </div>\n",
              "    </div>\n",
              "    "
            ],
            "text/plain": [
              "<IPython.core.display.HTML object>"
            ]
          },
          "metadata": {},
          "output_type": "display_data"
        },
        {
          "name": "stdout",
          "output_type": "stream",
          "text": [
            "1/1 [==============================] - 0s 23ms/step\n"
          ]
        },
        {
          "data": {
            "text/html": [
              "\n",
              "    <div style=\"overflow: auto;  border: 2px solid #D8D8D8;\n",
              "        padding: 5px; width: 420px;\" >\n",
              "        <img src=\"data:image/jpeg;base64,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\" style=\"float: left;\" width=\"200\" height=\"200\">\n",
              "        <div style=\"padding: 10px 0px 0px 20px; overflow: auto;\">\n",
              "            <img src=\"https://i.imgur.com/nxWan2u.png\" style=\"float: left;\" width=\"40\" height=\"40\">\n",
              "            <h3 style=\"margin-left: 50px; margin-top: 2px;\">Male</h3>\n",
              "            <p style=\"margin-left: 50px; margin-top: -6px; font-size: 12px\">97.17% prob.</p>\n",
              "            <p style=\"margin-left: 50px; margin-top: -16px; font-size: 12px\">Real Target: Male</p>\n",
              "            <p style=\"margin-left: 50px; margin-top: -16px; font-size: 12px\">Filename: 197067.jpg</p>\n",
              "        </div>\n",
              "    </div>\n",
              "    "
            ],
            "text/plain": [
              "<IPython.core.display.HTML object>"
            ]
          },
          "metadata": {},
          "output_type": "display_data"
        },
        {
          "name": "stdout",
          "output_type": "stream",
          "text": [
            "1/1 [==============================] - 0s 21ms/step\n"
          ]
        },
        {
          "data": {
            "text/html": [
              "\n",
              "    <div style=\"overflow: auto;  border: 2px solid #D8D8D8;\n",
              "        padding: 5px; width: 420px;\" >\n",
              "        <img src=\"data:image/jpeg;base64,/9j/4AAQSkZJRgABAQAAAQABAAD/2wBDAAgGBgcGBQgHBwcJCQgKDBQNDAsLDBkSEw8UHRofHh0aHBwgJC4nICIsIxwcKDcpLDAxNDQ0Hyc5PTgyPC4zNDL/2wBDAQkJCQwLDBgNDRgyIRwhMjIyMjIyMjIyMjIyMjIyMjIyMjIyMjIyMjIyMjIyMjIyMjIyMjIyMjIyMjIyMjIyMjL/wAARCADIAKMDASIAAhEBAxEB/8QAHwAAAQUBAQEBAQEAAAAAAAAAAAECAwQFBgcICQoL/8QAtRAAAgEDAwIEAwUFBAQAAAF9AQIDAAQRBRIhMUEGE1FhByJxFDKBkaEII0KxwRVS0fAkM2JyggkKFhcYGRolJicoKSo0NTY3ODk6Q0RFRkdISUpTVFVWV1hZWmNkZWZnaGlqc3R1dnd4eXqDhIWGh4iJipKTlJWWl5iZmqKjpKWmp6ipqrKztLW2t7i5usLDxMXGx8jJytLT1NXW19jZ2uHi4+Tl5ufo6erx8vP09fb3+Pn6/8QAHwEAAwEBAQEBAQEBAQAAAAAAAAECAwQFBgcICQoL/8QAtREAAgECBAQDBAcFBAQAAQJ3AAECAxEEBSExBhJBUQdhcRMiMoEIFEKRobHBCSMzUvAVYnLRChYkNOEl8RcYGRomJygpKjU2Nzg5OkNERUZHSElKU1RVVldYWVpjZGVmZ2hpanN0dXZ3eHl6goOEhYaHiImKkpOUlZaXmJmaoqOkpaanqKmqsrO0tba3uLm6wsPExcbHyMnK0tPU1dbX2Nna4uPk5ebn6Onq8vP09fb3+Pn6/9oADAMBAAIRAxEAPwDwKiiig0F/hr6S8Hf8ibpH/Xsv9a+be1fSPg3/AJE3SP8Ar2X+tbUdwNwdaU9aQdaU9a6UD2FFLSClpkBTqbTqBh3p69TTO9PXvQMdTu1Np3amBBqX/IOuf+uZrxOT73/Aj/OvbNS/5B1z/wBczXicn3vxP86llRFTqfrTx94UxOp+tPH3hSZaEPQU9egph6Cnr0FZjFooopFHmNFFFc9jnF7V9I+Df+RM0j/r2X+tfN2eK+kfBZH/AAhekf8AXsv8zWtJe8O5uCl70ZFArqSJbFFLSCnCnYQlOzQKO9HKx3DvUi96TGKAwLbQeaLBcdTu1NHH1p2cD/GqUGFyHUFLadcBQSTGcAV4lKCrkMCCGOQR05r3MSflXOeIfC9vq6tPb7ILwD7wGFf61LgyoySZ5gvBP1p/cVLe2F1p1yYLmIxyDt6ioA2RzUNW3NE7inoKeOgqPpS5rMZJRTKKRVzzOikzRmsrnGLX0h4L/wCRM0f/AK9l/ma+bs19I+CT/wAUXo//AF7L/M10YezkwN8DIzS4oFOrrUEO4AGnBTmgDiuW8U+NLPRoHt7aZJr0/KEXnZ9fSiVoK7BamrrXiHTdBg8y9nCkj5Y15Y/hXnWrfE/UrhzHpUKWyHgO43P/AICuPvL6fUrv7TdSNJKT1Y8D2FamnWVtHH51183dVA4FefUxDb0LSM671rWL8/6RqNzJ7Bzj8hxVJbq7jIdLqcEdxIa6ecweUxWFYwTgZwAPqe1Zc1qzqSkyMPQP/wDXrDmfcGOsfG/iHTpBs1GaRB/yzmYuK7PS/i3E22PU7JkPeSI5H1wea80ntpE+Zhx9arMpBrSFaUWKx9I6brNjq0AmsrlZUPp2+tX+c182aVq95ot4lzZzFHB5Xsw9CK918KeJbbxHpwljO2ZOJIyeVP8AhXpYetGpoyZKxpajpdrqtuYbqMN6N3H415xrnh260dy2HltiflkA6fWvVcfhTZIUmiaORQyNwVPQ1tOkpCjUszxHdjHelyM8E12XiDwVJGHutLBZerQE9PpXFFWjYqVZWXqpHIrinTcTojNMk30UwOMciisirnnOKMUuKMVy3OUTFfR3gk48FaR/17D+Zr5yNfRfgn/kS9I/69h/M124JXkwZ0YIp4qNfwrjvHfiptHt1sLRyt1MuWYHlF/+vXdNqMeZiTuL438Vx2emyWOnXI+2Odruh/1a9zn1ryGUuz7t7P3Ynkk092e6kJySS2ST3rW0vQ7i4cFUYg8E9RXk1q7m7s0S7GZawuTuIJHWrvmSuwCjGOh/wr0LTfCMa2xEuDu9Ktr4St4whCg/UVyutFaGqpTZ5qYXIJkL5PfqfzqGWFtvyN145OK9SHhi22kMpLk1hX/haaPebcFx6E0KrFidKS6HnsqyI21iGx1qo5BPBA9q3L/TJoHcSR4PuMVjSoV+XC1dxWIGYHjFa3h3XZ9B1eG8hPyqf3idnXvWQUPtSbWXqK0pyaaZD8z6fsbuG/sorq3YNHIoZTU+DXmPwo8QBhLos7tuyZIM9Pcf1/CvUSO9e3TqKcbnLN8rGc5zzWFrvha01hDIoEV1j5ZF4z9fWt/BpcVbimtRKdjyOXwjrEcrILXeFONyng/SivXdo9KK5/q8TX6wz5DoozRmvHLFr6K8EH/ii9I/69h/M186V9D+CpAvgzScsM/Zxxn3Nd2C0k7ilsdIzbVJPSvB/EuoPqXiC8uS+Q0pCA9gDgYr2jV7tbfRr2UOMrCxHI64rwQEyXIz3PJrXGy0SQoG/wCHdHk1G6CAYTgk16tpmlx2cKxxoB6n1rn/AAfYrDZRsFwzcnArtoUG3pivnq1Rt2PToU7K4qQgc07ZnjFT7F7Uuzkc1zNnUVGTaaryRruztrQdc1A6ZBouFrmDqOlW15GyyR8mvP8AWPDOxz5ceB9a9UljrPvLOO4hKsOTW0KjRjOmrHhl3ZS28hVlH1qptYHviuy1zSDDJJjJ5rkpUZHYYJHau6D5jhkraF7Q7uTTdStrtHKNG4IKn3r6XiYSwpKv3XUMPxFfLUWVOTn/AAr3LTviNoUGk2iXE7CZYlDKFJwQK9TDT92zOKtFvY7QrRsrjX+KXh5ejyt9Iz/hVdvixogOFiuG/wCAGur2ke5hyTO720VwH/C29J/59Z/yope0j3H7OfY+fs0ZpcUYrxbnoCV09hqN/HYwxx3MyxquFCtxXM4rptPT/QIT/s0+Zp6Dgrsna9vplMcl1MysMEFjzUFvBm8T3Iq0F56VLo8W7XbZXBxvqXJtaluGqPWNBgMdpCp4OBXRK4XtmuZea6Xba2K5kcZaQ9Ix6/WqUnh+/YtI+pSBs54J/wAa4HG71O3mcVZI7dSSemKdXAwR+I7OcLFeGVCehbP867nS2nntVF0MS9D+VZShylxnckIIBNQMSDV69jMVvII/9ZtO361xF42tSTZSTyjnuwApKNynJo6CVxn3qrK4rB/szWZ13PqiA+i/41G39raUQ1yy3EHcryQPWr5EupKm29iLXbIyqzAdRmvNNTtfKmIywz2r2OVY7q2PcHkEehry/wAVW/kXxXnHb0rqoPWxz4iGl0c4QRwDVhItygnmodwHpn2q7Blkrti30ONJMhMA+lL5OKtiMntS+V04qx2KflH0oq75RoosKxyXHvRx70maKwsx6C8V1OnD/iXwf7n9TXK967TS9PuZNLtpEUbWTg/ialxfQum0mW9L09tS1GK1R1TcSWZuigdTS2dr9l8UrFuLeVcbAfXmtDw0sum+JbKafaIjJscH0bj/AArcu9Ae08ZxzlP3UtyHDdue1ZSbi7M3S5lc6HULxNK02S4Ycgcj1xXKS6j4g1DTzqMRW3sy+1ccufoK9DeyhurbZLGsisOQeaxF8HxRFxFI6xsc7VNYQnBP3jWpGTXunPabNrC2xuXX7Rao2HbBBXPQkf4V2+l3Tl1VsjHrVSDw0sS7GLNGCCA0h4Prx34/WrUcEVrKIoAwVe5OampZ6xClzJWZa1q/aKVUTO5iBXNXR1C9vHtNOGZNhaSVjgR/U9fwq9qbl72Mt04qaPQ7S6+eFTE7HJZCQQfXr1rKCSd5Gs+ZxsjgTeeIRemGK6SZupU/KPpnr27+ta+heIhqINvcpiX+JT29q3LnwfbN97fkjnLZyeuf50208MWdkyv5QLj+IcVtOcGtDOnGcd2StGIlAUYArzPxlk3zAgfKK9SlTbkVweuacbzVJAEZgMZ2jNVSly6sqrFzVjhLHT7jULxIYUJLnjI4rVayksJXgnB81DtdfQ16l4U8KR6XG17eKoldDs3DlF/z/KuT1LRo7/Vbq784qJZCwA6AV2YeTqSZzVKXIkzmhj0pygZraHh9M8zmpk0CDvMxrs9nIy5WzECjH3aK6L+xLX/nq/50U/ZsOU8foHWl4/yaMD1rkMBDXqfh8/8AFOWAz/yy/qa8twK9Z8N2F1N4b09kiJVocg/8CNVHcCrqJYcgn869C0e+GseE7KaUZngl2Fj1yuBn8hXI3Wh3kqkeQ2a6bwRaXFnZXdlcxnDPvTI9QAf5VniFeJvQlaR01uRtAzVnO33qlZnIwe3FaO0ACvKla56kUrFeV2ZD8oHHU1mBgswPUk1pzsBG2PSsyBYzMBI33u9JMTRS1IhrgdjitDTWKxg+/Wq+q20bMpVvmPSptOdkgMTnO09aGXpY1XdpBjH6VWmGKtxOrR471TuDjNPQaiZlzxk1R0uBPmu5OXlnOAR1XBFWrrlSPUYq9bW6xxLkYIjAUVq3aJNtTP8AFGorZ6RFHGSHmHlgn06muJSYPypqx451SF9St7JWyLePLHPRj2/Kuah1Hy2weVr1cI4xp2ZyVYTk9EdAHwcUofmstNUhx0NO/tWLsrV0+1j3BUZvoa4k4HNFZQ1VMfcail7aPcr2E+x5XR+FLijFctjygHXpX0N4HH/FEaQcf8sP/Zmr55r6G8D/APIj6R/1w/8AZmqo7gWtf1i30WyaaT73RV9T2rl/DPjG4m1pGvn8iB2IIYDbtxwPbrVHxrdmbxLbWsh/dDnB9fWsxwkzzQqigRAOsmOcg8gfgKU1dWKi7O57Bayq4DxsGRuVIORirjysEAzgmue8JXYu9JjQsGkh/dv9RXRyR5jJHUdK8itHlk0exSneNxgwwAPTvSG1jMZ7DsRWLqGpX1lIipbqVc4D7un4UltcXl0y7ruBWI+6zYx9aShcrzNCSwBG5nJPvSJGE4XAAqlOLiBAx1CAbjjAYtWWmp6i12tusayZP3iMDHrQ4Oxa1Wh1MMpV9uc5pk+ScdKZaI+4F+uOakm5Ykjiso3vYtbGFrNwLTTbiY5wiE5FSy69aWOmaa5YzedEpOzBwAOTWD48vhbaL5QO0zOq/h1NcpDYrIYYnncRldoGeC2c4HoMY/OvTp4dzscc60YvUzb+6a+1Ce6bkyuWqJRk8V1K+F4STmRhz0qG+0GGztGlV2JFdLwtRK/Q3hi6TaijCXinjBNG0U9B8w4rnszuiTiLgUVaULtHA6UUtTflPL+fSjn0oyfWlyfWuo+NEGc9K9t0TU5rDwJovkYLtAeD/vNXieT6mve/B1lBdeCNHMyhsQcZ/wB5qcdwOQ1Ym8vjqFxnfGMAe54FFvcsZJTIzECN8Db91VGBzj1wPxrutR0ezZYmW33eXIGcAdV6GsZfDz3Ec6Wks8EErYZ5lwWUHICj61bXYLlbwrq0un35Eg2wSttf2PY16fFKJE+XoRmuQ0/w3aWCYmZpnYclq3rc/Z1XZkoOD7VyYrDOS5kdeHrqPuyLVzbrcIY3H0PoayzYGMnzE3j1FbMcqONwqbYHHQV53M46HoxZzslqrRhUTDepIqe2sFt8t1Y9zWu0YTlUqCVhwKlzbNVsKn7tcnuKrzzBEYscAHk0k1wqnk4ArPlD3PzONsXp/ep0463ZMpWR5z8Q7t5riyhAPzFmA9ugojIhsYY0+YxBs7jzuxnH50ePlSC/066XmQSFApPG0Yz/ADNMV/3k+ELdXHbAPIFe1hnqjx612zqDcmOxinSMvuUHAqNgdX04gqY8+tPjEx0tYVjOdgXNWWCWVmgJC8d69hqLhqYQclNcpzMmjKImdJslTg5GKU6I4nSMSfKV3FiOlXZbqHy2WWRWJbK7ac+owNLsL8MmMivPdOkerGvXK/2TTxwbw5HtRUP2WEdLiPHvRWXJE19vU7s8noowaMGszxRR1r6E8Df8iNpH/XA/+htXz1zmvoXwMM+BNI/64H/0NqumveA192SSCPrUgYZA696iES89akVVEgYA1ukIUY+YnGadASSfrTHjR27j8amjjVIj6A5yaqwDIiQGZT0bkHvV6G6C/eBArhZ/FjaXrDtJG82nzcDA+ZGHBx6/Suv0zV7C6gSSO5jCuMgMwU/ka8KvD3nbY9OjVVrF2e+hCn5ue2Ky5Z5JOIo2JPduB+dacmo6eik/arcEcH5xWX/asM0sggyWjYKSw5/Lrj9KwVOTN5V1YcloIwJryQZ7L2H+NU7u7807YRge/eppg8/zSHj61W+XOyFS79z2FdEIJbnNKrKbscr4i8P/ANsRITKY2iJ8rkcn3zWN4XuS199lu403Q/IWYc5Hv7V3F1A4RmZiWA7Diub1HQktbhtXtmby55sXEeMFNx6//XFdlKok0yZU1Lc6hZIsffX86yPEUiGyUK6k56A1n3FukE8cbOcMNysHyGB7g09bS0c4eXPpk16Uq/PGyNKWHjCSkYJXmk21uzWdosbbCpYCoobW2AVpCuMc81wuk77nqKqrbGRtPpRW8IbIjgDFFL2T7h7ZfynjXPpRz6U7b/nFG3/OKR80Nr6D8CE/8INpX/XE/wDobV8/Bef/AK1fQPgYqPA2klpNu2A59vnatabSYrM3Yt5fBXipYhu3EqRiqk2r6XbPsfVLffjOyM7z+mcfjWVL4ys48+VbXUuP4iQig+vQk/lVyr04L3mVCnKWx0CjhiQeKo3+pxWlpIGOXKkAZ9a56XxFqOofu4EWJW/hX5iffJ6VWmityTZ28slxOo3XBxwpPT/Jrkq468WoI6oYS0k5Mms7GO5gMc6g4Jx+lWR4ctXBSTBVWDKPT6VJpDRzWwhchZCQVyeprSMDMcA89OK5oTvEKsLSM+PTLa3fdtEh6BmHP/161baBARIygHGF47UsVq+7O3cf7xHFSPG4xGp+Y9apyJjBt6EM5aeURRkgdCavRW8dtDsVct3x3pbe3W3Xc3LGpfvHIwPUmspSfQ64U0ihNGFjY4AJ4ArLuIi0eGbbGnv1I5/IYJ/CuqttNS6hM08/kwA47Zf6E1m61oVq9heS3Vw0UGwCA9dp75HfPSrSdrkTmr2OM1PSibJLm32mIk7o16IxP3l9Ae9c+isr4bIPp6VstqptpS80uLU/K69iPpUs6wSWv2iFRdQ98cOPf2Na0puRtTrexdpGMuevakPLZpyTQSMfKk3DPfg/iKRhg88Vpc9KE4SXugM460UZHqKKYzzLcvt/3zRuX2/75ooosfMXFDLkYx/3zXdWEep3fh2yjRCbdEwgYHB5PXJx+FFFTPoXB7mnYxXEo2TQtGV4dtm0H6Cte1sZr6by4VxGvVscCiiuGs252O7DJezuX9YCaZoci27ETEAAg8+5rM8CxTRXk1wFP2eVSrOTklgeDRRThsaM6EeH5WkbbKjI7Z5yMe9aNtobWzgyXMsgzyqnAP1ooqFFJie5qAIP4StATHzAfjRRWjYiORlCk53e1QiRyjBsZHUiiikhsq3TtLiMliiDnmszXNV1CXTvs0kh8plztGAdo6DNFFJyauiqdOMpanB3oD3flOA6ogOD0LE5yf0q6iyT3UckUWFG2IEZVSxycHHXjmiiuiLtTujz5a1bMzNU0m6inkuYZBICcZX5S3tgVLZxXkN1HFcqWiLLvTaWkAP0ooq6M3JamspOD91nVjQSw3LpeoEHkEpg0UUV1XMvrFTuf//Z\" style=\"float: left;\" width=\"200\" height=\"200\">\n",
              "        <div style=\"padding: 10px 0px 0px 20px; overflow: auto;\">\n",
              "            <img src=\"https://i.imgur.com/oAAb8rd.png\" style=\"float: left;\" width=\"40\" height=\"40\">\n",
              "            <h3 style=\"margin-left: 50px; margin-top: 2px;\">Female</h3>\n",
              "            <p style=\"margin-left: 50px; margin-top: -6px; font-size: 12px\">99.17% prob.</p>\n",
              "            <p style=\"margin-left: 50px; margin-top: -16px; font-size: 12px\">Real Target: Female</p>\n",
              "            <p style=\"margin-left: 50px; margin-top: -16px; font-size: 12px\">Filename: 195100.jpg</p>\n",
              "        </div>\n",
              "    </div>\n",
              "    "
            ],
            "text/plain": [
              "<IPython.core.display.HTML object>"
            ]
          },
          "metadata": {},
          "output_type": "display_data"
        },
        {
          "name": "stdout",
          "output_type": "stream",
          "text": [
            "1/1 [==============================] - 0s 22ms/step\n"
          ]
        },
        {
          "data": {
            "text/html": [
              "\n",
              "    <div style=\"overflow: auto;  border: 2px solid #D8D8D8;\n",
              "        padding: 5px; width: 420px;\" >\n",
              "        <img src=\"data:image/jpeg;base64,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\" style=\"float: left;\" width=\"200\" height=\"200\">\n",
              "        <div style=\"padding: 10px 0px 0px 20px; overflow: auto;\">\n",
              "            <img src=\"https://i.imgur.com/oAAb8rd.png\" style=\"float: left;\" width=\"40\" height=\"40\">\n",
              "            <h3 style=\"margin-left: 50px; margin-top: 2px;\">Female</h3>\n",
              "            <p style=\"margin-left: 50px; margin-top: -6px; font-size: 12px\">87.03% prob.</p>\n",
              "            <p style=\"margin-left: 50px; margin-top: -16px; font-size: 12px\">Real Target: Male</p>\n",
              "            <p style=\"margin-left: 50px; margin-top: -16px; font-size: 12px\">Filename: 197105.jpg</p>\n",
              "        </div>\n",
              "    </div>\n",
              "    "
            ],
            "text/plain": [
              "<IPython.core.display.HTML object>"
            ]
          },
          "metadata": {},
          "output_type": "display_data"
        },
        {
          "name": "stdout",
          "output_type": "stream",
          "text": [
            "1/1 [==============================] - 0s 21ms/step\n"
          ]
        },
        {
          "data": {
            "text/html": [
              "\n",
              "    <div style=\"overflow: auto;  border: 2px solid #D8D8D8;\n",
              "        padding: 5px; width: 420px;\" >\n",
              "        <img src=\"data:image/jpeg;base64,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\" style=\"float: left;\" width=\"200\" height=\"200\">\n",
              "        <div style=\"padding: 10px 0px 0px 20px; overflow: auto;\">\n",
              "            <img src=\"https://i.imgur.com/nxWan2u.png\" style=\"float: left;\" width=\"40\" height=\"40\">\n",
              "            <h3 style=\"margin-left: 50px; margin-top: 2px;\">Male</h3>\n",
              "            <p style=\"margin-left: 50px; margin-top: -6px; font-size: 12px\">59.78% prob.</p>\n",
              "            <p style=\"margin-left: 50px; margin-top: -16px; font-size: 12px\">Real Target: Female</p>\n",
              "            <p style=\"margin-left: 50px; margin-top: -16px; font-size: 12px\">Filename: 194636.jpg</p>\n",
              "        </div>\n",
              "    </div>\n",
              "    "
            ],
            "text/plain": [
              "<IPython.core.display.HTML object>"
            ]
          },
          "metadata": {},
          "output_type": "display_data"
        }
      ],
      "source": [
        "df_to_test = DF_PARTITION[(DF_PARTITION['partition'] == 2)].sample(8)\n",
        "\n",
        "for index, target in df_to_test.iterrows():\n",
        "    result = gender_prediction(IMG_PATH + index)\n",
        "\n",
        "    #display result\n",
        "    display_result(IMG_PATH + index, result[0], target['Male'])"
      ]
    }
  ],
  "metadata": {
    "kernelspec": {
      "display_name": "tf.2.10",
      "language": "python",
      "name": "python3"
    },
    "language_info": {
      "codemirror_mode": {
        "name": "ipython",
        "version": 3
      },
      "file_extension": ".py",
      "mimetype": "text/x-python",
      "name": "python",
      "nbconvert_exporter": "python",
      "pygments_lexer": "ipython3",
      "version": "3.10.0"
    },
    "orig_nbformat": 4,
    "colab": {
      "provenance": []
    }
  },
  "nbformat": 4,
  "nbformat_minor": 0
}